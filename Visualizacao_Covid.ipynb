{
 "cells": [
  {
   "cell_type": "markdown",
   "metadata": {},
   "source": [
    "# Coronavirus (COVID-19) Visualização & Previsão  \n",
    "Coronavírus é uma família de vírus. O mal causado pelo coronavirus, conhecido também como SARS-CoV-2, é uma doença respiratória contagiosa, surgida em Wuhan, China. Em 11/02/2020, a OMS considerou a doença como uma possível pandemia. Este notebook busca analisar e fazer previsões sobre o avanço e comportamento do vírus. Dados de dois anos já...\n",
    "\n",
    "   Dados sobre o caso - <a href='https://github.com/CSSEGISandData/COVID-19'>Johns Hopkins University</a>\n",
    "   <br>Dados sobre mobilidade - <a href='https://www.apple.com/covid19/mobility'>Apple</a>\n",
    "   <br>Saiba Mais - <a href='https://www.who.int/emergencies/diseases/novel-coronavirus-2019'>World Health Organization</a>\n",
    "   <br>Saiba Mais - <a href='https://www.cdc.gov/coronavirus/2019-ncov'>Centers for Disease Control and Prevention</a>\n",
    "   <br>Mapas - <a href='https://gisanddata.maps.arcgis.com/apps/opsdashboard/index.html#/bda7594740fd40299423467b48e9ecf6'>JHU CCSE Dashboard</a>\n",
    "   <br> Última Atualização: **10/01/2022 10:35 AM ET**. \n",
    "      \n",
    "* <a href='#world_wide_graphs'>Explorando Casos Globais do Vírus</a>\n",
    "* <a href='#country_graphs'>Explorando Casos em Países</a>\n",
    "* <a href='#prediction'>Predições de Casos Globais</a>\n",
    "* <a href='#data_table'>Tabela</a>\n",
    "* <a href='#pie_charts'>Gráficos de Pizzas</a>\n",
    "* <a href='#bar_charts'>Gráficos de Barras</a>\n",
    "* <a href='#hospital_testing'>Dados Testagem EE.UU.</a>\n",
    "* <a href='#mobility_data'>Dados de Mobilidade - Hotspots</a>"
   ]
  },
  {
   "cell_type": "code",
   "execution_count": 1,
   "metadata": {
    "_cell_guid": "b1076dfc-b9ad-4769-8c92-a6c4dae69d19",
    "_kg_hide-input": true,
    "_kg_hide-output": true,
    "_uuid": "8f2839f25d086af736a60e9eeb907d3b93b6e0e5",
    "execution": {
     "iopub.execute_input": "2022-01-13T17:07:36.743751Z",
     "iopub.status.busy": "2022-01-13T17:07:36.743455Z",
     "iopub.status.idle": "2022-01-13T17:07:39.519763Z",
     "shell.execute_reply": "2022-01-13T17:07:39.518889Z",
     "shell.execute_reply.started": "2022-01-13T17:07:36.743714Z"
    }
   },
   "outputs": [],
   "source": [
    "import numpy as np \n",
    "import matplotlib.pyplot as plt \n",
    "import matplotlib.colors as mcolors\n",
    "import pandas as pd \n",
    "import random\n",
    "import math\n",
    "import time\n",
    "\n",
    "from sklearn.linear_model import LinearRegression, BayesianRidge\n",
    "from sklearn.model_selection import RandomizedSearchCV, train_test_split\n",
    "from sklearn.preprocessing import PolynomialFeatures\n",
    "from sklearn.svm import SVR\n",
    "from sklearn.metrics import mean_squared_error, mean_absolute_error\n",
    "\n",
    "import datetime\n",
    "import operator \n",
    "plt.style.use('seaborn-poster')\n",
    "%matplotlib inline\n",
    "\n",
    "from IPython.display import set_matplotlib_formats\n",
    "set_matplotlib_formats('retina')\n",
    "\n",
    "import warnings\n",
    "warnings.filterwarnings(\"ignore\")"
   ]
  },
  {
   "cell_type": "markdown",
   "metadata": {},
   "source": [
    "Importando os Dados dos Repositórios Github"
   ]
  },
  {
   "cell_type": "code",
   "execution_count": 2,
   "metadata": {
    "_cell_guid": "",
    "_kg_hide-input": true,
    "_kg_hide-output": true,
    "_uuid": "",
    "execution": {
     "iopub.execute_input": "2022-01-13T17:07:43.640790Z",
     "iopub.status.busy": "2022-01-13T17:07:43.640305Z",
     "iopub.status.idle": "2022-01-13T17:07:47.016381Z",
     "shell.execute_reply": "2022-01-13T17:07:47.015547Z",
     "shell.execute_reply.started": "2022-01-13T17:07:43.640725Z"
    }
   },
   "outputs": [],
   "source": [
    "confirmed_df = pd.read_csv('https://raw.githubusercontent.com/CSSEGISandData/COVID-19/master/csse_covid_19_data/csse_covid_19_time_series/time_series_covid19_confirmed_global.csv')\n",
    "deaths_df = pd.read_csv('https://raw.githubusercontent.com/CSSEGISandData/COVID-19/master/csse_covid_19_data/csse_covid_19_time_series/time_series_covid19_deaths_global.csv')\n",
    "recoveries_df = pd.read_csv('https://raw.githubusercontent.com/CSSEGISandData/COVID-19/master/csse_covid_19_data/csse_covid_19_time_series/time_series_covid19_recovered_global.csv')\n",
    "latest_data = pd.read_csv('https://raw.githubusercontent.com/CSSEGISandData/COVID-19/master/csse_covid_19_data/csse_covid_19_daily_reports/01-09-2022.csv')\n",
    "us_medical_data = pd.read_csv('https://raw.githubusercontent.com/CSSEGISandData/COVID-19/master/csse_covid_19_data/csse_covid_19_daily_reports_us/01-09-2022.csv')\n",
    "apple_mobility = pd.read_csv(\"https://covid19-static.cdn-apple.com/covid19-mobility-data/2205HotfixDev8/v3/en-us/applemobilitytrends-2022-01-08.csv\")"
   ]
  },
  {
   "cell_type": "code",
   "execution_count": 3,
   "metadata": {
    "_kg_hide-input": true,
    "_kg_hide-output": true,
    "execution": {
     "iopub.execute_input": "2022-01-13T17:07:56.845144Z",
     "iopub.status.busy": "2022-01-13T17:07:56.844493Z",
     "iopub.status.idle": "2022-01-13T17:07:56.869287Z",
     "shell.execute_reply": "2022-01-13T17:07:56.868412Z",
     "shell.execute_reply.started": "2022-01-13T17:07:56.845083Z"
    }
   },
   "outputs": [
    {
     "data": {
      "text/html": [
       "<div>\n",
       "<style scoped>\n",
       "    .dataframe tbody tr th:only-of-type {\n",
       "        vertical-align: middle;\n",
       "    }\n",
       "\n",
       "    .dataframe tbody tr th {\n",
       "        vertical-align: top;\n",
       "    }\n",
       "\n",
       "    .dataframe thead th {\n",
       "        text-align: right;\n",
       "    }\n",
       "</style>\n",
       "<table border=\"1\" class=\"dataframe\">\n",
       "  <thead>\n",
       "    <tr style=\"text-align: right;\">\n",
       "      <th></th>\n",
       "      <th>Province/State</th>\n",
       "      <th>Country/Region</th>\n",
       "      <th>Lat</th>\n",
       "      <th>Long</th>\n",
       "      <th>1/22/20</th>\n",
       "      <th>1/23/20</th>\n",
       "      <th>1/24/20</th>\n",
       "      <th>1/25/20</th>\n",
       "      <th>1/26/20</th>\n",
       "      <th>1/27/20</th>\n",
       "      <th>...</th>\n",
       "      <th>1/9/22</th>\n",
       "      <th>1/10/22</th>\n",
       "      <th>1/11/22</th>\n",
       "      <th>1/12/22</th>\n",
       "      <th>1/13/22</th>\n",
       "      <th>1/14/22</th>\n",
       "      <th>1/15/22</th>\n",
       "      <th>1/16/22</th>\n",
       "      <th>1/17/22</th>\n",
       "      <th>1/18/22</th>\n",
       "    </tr>\n",
       "  </thead>\n",
       "  <tbody>\n",
       "    <tr>\n",
       "      <th>0</th>\n",
       "      <td>NaN</td>\n",
       "      <td>Afghanistan</td>\n",
       "      <td>33.93911</td>\n",
       "      <td>67.709953</td>\n",
       "      <td>0</td>\n",
       "      <td>0</td>\n",
       "      <td>0</td>\n",
       "      <td>0</td>\n",
       "      <td>0</td>\n",
       "      <td>0</td>\n",
       "      <td>...</td>\n",
       "      <td>158381</td>\n",
       "      <td>158394</td>\n",
       "      <td>158471</td>\n",
       "      <td>158511</td>\n",
       "      <td>158602</td>\n",
       "      <td>158639</td>\n",
       "      <td>158678</td>\n",
       "      <td>158717</td>\n",
       "      <td>158826</td>\n",
       "      <td>158974</td>\n",
       "    </tr>\n",
       "    <tr>\n",
       "      <th>1</th>\n",
       "      <td>NaN</td>\n",
       "      <td>Albania</td>\n",
       "      <td>41.15330</td>\n",
       "      <td>20.168300</td>\n",
       "      <td>0</td>\n",
       "      <td>0</td>\n",
       "      <td>0</td>\n",
       "      <td>0</td>\n",
       "      <td>0</td>\n",
       "      <td>0</td>\n",
       "      <td>...</td>\n",
       "      <td>219694</td>\n",
       "      <td>220487</td>\n",
       "      <td>222664</td>\n",
       "      <td>224569</td>\n",
       "      <td>226598</td>\n",
       "      <td>228777</td>\n",
       "      <td>230940</td>\n",
       "      <td>232637</td>\n",
       "      <td>233654</td>\n",
       "      <td>236486</td>\n",
       "    </tr>\n",
       "    <tr>\n",
       "      <th>2</th>\n",
       "      <td>NaN</td>\n",
       "      <td>Algeria</td>\n",
       "      <td>28.03390</td>\n",
       "      <td>1.659600</td>\n",
       "      <td>0</td>\n",
       "      <td>0</td>\n",
       "      <td>0</td>\n",
       "      <td>0</td>\n",
       "      <td>0</td>\n",
       "      <td>0</td>\n",
       "      <td>...</td>\n",
       "      <td>222157</td>\n",
       "      <td>222639</td>\n",
       "      <td>223196</td>\n",
       "      <td>223806</td>\n",
       "      <td>224383</td>\n",
       "      <td>224979</td>\n",
       "      <td>225484</td>\n",
       "      <td>226057</td>\n",
       "      <td>226749</td>\n",
       "      <td>227559</td>\n",
       "    </tr>\n",
       "    <tr>\n",
       "      <th>3</th>\n",
       "      <td>NaN</td>\n",
       "      <td>Andorra</td>\n",
       "      <td>42.50630</td>\n",
       "      <td>1.521800</td>\n",
       "      <td>0</td>\n",
       "      <td>0</td>\n",
       "      <td>0</td>\n",
       "      <td>0</td>\n",
       "      <td>0</td>\n",
       "      <td>0</td>\n",
       "      <td>...</td>\n",
       "      <td>26408</td>\n",
       "      <td>27983</td>\n",
       "      <td>28542</td>\n",
       "      <td>28899</td>\n",
       "      <td>28899</td>\n",
       "      <td>29888</td>\n",
       "      <td>29888</td>\n",
       "      <td>29888</td>\n",
       "      <td>29888</td>\n",
       "      <td>29888</td>\n",
       "    </tr>\n",
       "    <tr>\n",
       "      <th>4</th>\n",
       "      <td>NaN</td>\n",
       "      <td>Angola</td>\n",
       "      <td>-11.20270</td>\n",
       "      <td>17.873900</td>\n",
       "      <td>0</td>\n",
       "      <td>0</td>\n",
       "      <td>0</td>\n",
       "      <td>0</td>\n",
       "      <td>0</td>\n",
       "      <td>0</td>\n",
       "      <td>...</td>\n",
       "      <td>89718</td>\n",
       "      <td>90316</td>\n",
       "      <td>91148</td>\n",
       "      <td>91907</td>\n",
       "      <td>92581</td>\n",
       "      <td>93302</td>\n",
       "      <td>93524</td>\n",
       "      <td>93694</td>\n",
       "      <td>93974</td>\n",
       "      <td>94275</td>\n",
       "    </tr>\n",
       "  </tbody>\n",
       "</table>\n",
       "<p>5 rows × 732 columns</p>\n",
       "</div>"
      ],
      "text/plain": [
       "  Province/State Country/Region       Lat       Long  1/22/20  1/23/20  \\\n",
       "0            NaN    Afghanistan  33.93911  67.709953        0        0   \n",
       "1            NaN        Albania  41.15330  20.168300        0        0   \n",
       "2            NaN        Algeria  28.03390   1.659600        0        0   \n",
       "3            NaN        Andorra  42.50630   1.521800        0        0   \n",
       "4            NaN         Angola -11.20270  17.873900        0        0   \n",
       "\n",
       "   1/24/20  1/25/20  1/26/20  1/27/20  ...  1/9/22  1/10/22  1/11/22  1/12/22  \\\n",
       "0        0        0        0        0  ...  158381   158394   158471   158511   \n",
       "1        0        0        0        0  ...  219694   220487   222664   224569   \n",
       "2        0        0        0        0  ...  222157   222639   223196   223806   \n",
       "3        0        0        0        0  ...   26408    27983    28542    28899   \n",
       "4        0        0        0        0  ...   89718    90316    91148    91907   \n",
       "\n",
       "   1/13/22  1/14/22  1/15/22  1/16/22  1/17/22  1/18/22  \n",
       "0   158602   158639   158678   158717   158826   158974  \n",
       "1   226598   228777   230940   232637   233654   236486  \n",
       "2   224383   224979   225484   226057   226749   227559  \n",
       "3    28899    29888    29888    29888    29888    29888  \n",
       "4    92581    93302    93524    93694    93974    94275  \n",
       "\n",
       "[5 rows x 732 columns]"
      ]
     },
     "execution_count": 3,
     "metadata": {},
     "output_type": "execute_result"
    }
   ],
   "source": [
    "confirmed_df.head()"
   ]
  },
  {
   "cell_type": "code",
   "execution_count": 4,
   "metadata": {},
   "outputs": [
    {
     "data": {
      "text/html": [
       "<div>\n",
       "<style scoped>\n",
       "    .dataframe tbody tr th:only-of-type {\n",
       "        vertical-align: middle;\n",
       "    }\n",
       "\n",
       "    .dataframe tbody tr th {\n",
       "        vertical-align: top;\n",
       "    }\n",
       "\n",
       "    .dataframe thead th {\n",
       "        text-align: right;\n",
       "    }\n",
       "</style>\n",
       "<table border=\"1\" class=\"dataframe\">\n",
       "  <thead>\n",
       "    <tr style=\"text-align: right;\">\n",
       "      <th></th>\n",
       "      <th>Province/State</th>\n",
       "      <th>Country/Region</th>\n",
       "      <th>Lat</th>\n",
       "      <th>Long</th>\n",
       "      <th>1/22/20</th>\n",
       "      <th>1/23/20</th>\n",
       "      <th>1/24/20</th>\n",
       "      <th>1/25/20</th>\n",
       "      <th>1/26/20</th>\n",
       "      <th>1/27/20</th>\n",
       "      <th>...</th>\n",
       "      <th>1/9/22</th>\n",
       "      <th>1/10/22</th>\n",
       "      <th>1/11/22</th>\n",
       "      <th>1/12/22</th>\n",
       "      <th>1/13/22</th>\n",
       "      <th>1/14/22</th>\n",
       "      <th>1/15/22</th>\n",
       "      <th>1/16/22</th>\n",
       "      <th>1/17/22</th>\n",
       "      <th>1/18/22</th>\n",
       "    </tr>\n",
       "  </thead>\n",
       "  <tbody>\n",
       "    <tr>\n",
       "      <th>0</th>\n",
       "      <td>NaN</td>\n",
       "      <td>Afghanistan</td>\n",
       "      <td>33.93911</td>\n",
       "      <td>67.709953</td>\n",
       "      <td>0</td>\n",
       "      <td>0</td>\n",
       "      <td>0</td>\n",
       "      <td>0</td>\n",
       "      <td>0</td>\n",
       "      <td>0</td>\n",
       "      <td>...</td>\n",
       "      <td>7373</td>\n",
       "      <td>7373</td>\n",
       "      <td>7374</td>\n",
       "      <td>7376</td>\n",
       "      <td>7376</td>\n",
       "      <td>7376</td>\n",
       "      <td>7378</td>\n",
       "      <td>7379</td>\n",
       "      <td>7381</td>\n",
       "      <td>7383</td>\n",
       "    </tr>\n",
       "    <tr>\n",
       "      <th>1</th>\n",
       "      <td>NaN</td>\n",
       "      <td>Albania</td>\n",
       "      <td>41.15330</td>\n",
       "      <td>20.168300</td>\n",
       "      <td>0</td>\n",
       "      <td>0</td>\n",
       "      <td>0</td>\n",
       "      <td>0</td>\n",
       "      <td>0</td>\n",
       "      <td>0</td>\n",
       "      <td>...</td>\n",
       "      <td>3240</td>\n",
       "      <td>3241</td>\n",
       "      <td>3247</td>\n",
       "      <td>3253</td>\n",
       "      <td>3255</td>\n",
       "      <td>3262</td>\n",
       "      <td>3265</td>\n",
       "      <td>3269</td>\n",
       "      <td>3271</td>\n",
       "      <td>3277</td>\n",
       "    </tr>\n",
       "    <tr>\n",
       "      <th>2</th>\n",
       "      <td>NaN</td>\n",
       "      <td>Algeria</td>\n",
       "      <td>28.03390</td>\n",
       "      <td>1.659600</td>\n",
       "      <td>0</td>\n",
       "      <td>0</td>\n",
       "      <td>0</td>\n",
       "      <td>0</td>\n",
       "      <td>0</td>\n",
       "      <td>0</td>\n",
       "      <td>...</td>\n",
       "      <td>6339</td>\n",
       "      <td>6349</td>\n",
       "      <td>6363</td>\n",
       "      <td>6372</td>\n",
       "      <td>6383</td>\n",
       "      <td>6393</td>\n",
       "      <td>6404</td>\n",
       "      <td>6412</td>\n",
       "      <td>6423</td>\n",
       "      <td>6435</td>\n",
       "    </tr>\n",
       "    <tr>\n",
       "      <th>3</th>\n",
       "      <td>NaN</td>\n",
       "      <td>Andorra</td>\n",
       "      <td>42.50630</td>\n",
       "      <td>1.521800</td>\n",
       "      <td>0</td>\n",
       "      <td>0</td>\n",
       "      <td>0</td>\n",
       "      <td>0</td>\n",
       "      <td>0</td>\n",
       "      <td>0</td>\n",
       "      <td>...</td>\n",
       "      <td>141</td>\n",
       "      <td>141</td>\n",
       "      <td>141</td>\n",
       "      <td>141</td>\n",
       "      <td>141</td>\n",
       "      <td>142</td>\n",
       "      <td>142</td>\n",
       "      <td>142</td>\n",
       "      <td>142</td>\n",
       "      <td>142</td>\n",
       "    </tr>\n",
       "    <tr>\n",
       "      <th>4</th>\n",
       "      <td>NaN</td>\n",
       "      <td>Angola</td>\n",
       "      <td>-11.20270</td>\n",
       "      <td>17.873900</td>\n",
       "      <td>0</td>\n",
       "      <td>0</td>\n",
       "      <td>0</td>\n",
       "      <td>0</td>\n",
       "      <td>0</td>\n",
       "      <td>0</td>\n",
       "      <td>...</td>\n",
       "      <td>1826</td>\n",
       "      <td>1832</td>\n",
       "      <td>1840</td>\n",
       "      <td>1842</td>\n",
       "      <td>1847</td>\n",
       "      <td>1852</td>\n",
       "      <td>1857</td>\n",
       "      <td>1863</td>\n",
       "      <td>1866</td>\n",
       "      <td>1870</td>\n",
       "    </tr>\n",
       "  </tbody>\n",
       "</table>\n",
       "<p>5 rows × 732 columns</p>\n",
       "</div>"
      ],
      "text/plain": [
       "  Province/State Country/Region       Lat       Long  1/22/20  1/23/20  \\\n",
       "0            NaN    Afghanistan  33.93911  67.709953        0        0   \n",
       "1            NaN        Albania  41.15330  20.168300        0        0   \n",
       "2            NaN        Algeria  28.03390   1.659600        0        0   \n",
       "3            NaN        Andorra  42.50630   1.521800        0        0   \n",
       "4            NaN         Angola -11.20270  17.873900        0        0   \n",
       "\n",
       "   1/24/20  1/25/20  1/26/20  1/27/20  ...  1/9/22  1/10/22  1/11/22  1/12/22  \\\n",
       "0        0        0        0        0  ...    7373     7373     7374     7376   \n",
       "1        0        0        0        0  ...    3240     3241     3247     3253   \n",
       "2        0        0        0        0  ...    6339     6349     6363     6372   \n",
       "3        0        0        0        0  ...     141      141      141      141   \n",
       "4        0        0        0        0  ...    1826     1832     1840     1842   \n",
       "\n",
       "   1/13/22  1/14/22  1/15/22  1/16/22  1/17/22  1/18/22  \n",
       "0     7376     7376     7378     7379     7381     7383  \n",
       "1     3255     3262     3265     3269     3271     3277  \n",
       "2     6383     6393     6404     6412     6423     6435  \n",
       "3      141      142      142      142      142      142  \n",
       "4     1847     1852     1857     1863     1866     1870  \n",
       "\n",
       "[5 rows x 732 columns]"
      ]
     },
     "execution_count": 4,
     "metadata": {},
     "output_type": "execute_result"
    }
   ],
   "source": [
    "deaths_df.head()"
   ]
  },
  {
   "cell_type": "code",
   "execution_count": 5,
   "metadata": {},
   "outputs": [
    {
     "data": {
      "text/html": [
       "<div>\n",
       "<style scoped>\n",
       "    .dataframe tbody tr th:only-of-type {\n",
       "        vertical-align: middle;\n",
       "    }\n",
       "\n",
       "    .dataframe tbody tr th {\n",
       "        vertical-align: top;\n",
       "    }\n",
       "\n",
       "    .dataframe thead th {\n",
       "        text-align: right;\n",
       "    }\n",
       "</style>\n",
       "<table border=\"1\" class=\"dataframe\">\n",
       "  <thead>\n",
       "    <tr style=\"text-align: right;\">\n",
       "      <th></th>\n",
       "      <th>Province/State</th>\n",
       "      <th>Country/Region</th>\n",
       "      <th>Lat</th>\n",
       "      <th>Long</th>\n",
       "      <th>1/22/20</th>\n",
       "      <th>1/23/20</th>\n",
       "      <th>1/24/20</th>\n",
       "      <th>1/25/20</th>\n",
       "      <th>1/26/20</th>\n",
       "      <th>1/27/20</th>\n",
       "      <th>...</th>\n",
       "      <th>1/9/22</th>\n",
       "      <th>1/10/22</th>\n",
       "      <th>1/11/22</th>\n",
       "      <th>1/12/22</th>\n",
       "      <th>1/13/22</th>\n",
       "      <th>1/14/22</th>\n",
       "      <th>1/15/22</th>\n",
       "      <th>1/16/22</th>\n",
       "      <th>1/17/22</th>\n",
       "      <th>1/18/22</th>\n",
       "    </tr>\n",
       "  </thead>\n",
       "  <tbody>\n",
       "    <tr>\n",
       "      <th>0</th>\n",
       "      <td>NaN</td>\n",
       "      <td>Afghanistan</td>\n",
       "      <td>33.93911</td>\n",
       "      <td>67.709953</td>\n",
       "      <td>0</td>\n",
       "      <td>0</td>\n",
       "      <td>0</td>\n",
       "      <td>0</td>\n",
       "      <td>0</td>\n",
       "      <td>0</td>\n",
       "      <td>...</td>\n",
       "      <td>0</td>\n",
       "      <td>0</td>\n",
       "      <td>0</td>\n",
       "      <td>0</td>\n",
       "      <td>0</td>\n",
       "      <td>0</td>\n",
       "      <td>0</td>\n",
       "      <td>0</td>\n",
       "      <td>0</td>\n",
       "      <td>0</td>\n",
       "    </tr>\n",
       "    <tr>\n",
       "      <th>1</th>\n",
       "      <td>NaN</td>\n",
       "      <td>Albania</td>\n",
       "      <td>41.15330</td>\n",
       "      <td>20.168300</td>\n",
       "      <td>0</td>\n",
       "      <td>0</td>\n",
       "      <td>0</td>\n",
       "      <td>0</td>\n",
       "      <td>0</td>\n",
       "      <td>0</td>\n",
       "      <td>...</td>\n",
       "      <td>0</td>\n",
       "      <td>0</td>\n",
       "      <td>0</td>\n",
       "      <td>0</td>\n",
       "      <td>0</td>\n",
       "      <td>0</td>\n",
       "      <td>0</td>\n",
       "      <td>0</td>\n",
       "      <td>0</td>\n",
       "      <td>0</td>\n",
       "    </tr>\n",
       "    <tr>\n",
       "      <th>2</th>\n",
       "      <td>NaN</td>\n",
       "      <td>Algeria</td>\n",
       "      <td>28.03390</td>\n",
       "      <td>1.659600</td>\n",
       "      <td>0</td>\n",
       "      <td>0</td>\n",
       "      <td>0</td>\n",
       "      <td>0</td>\n",
       "      <td>0</td>\n",
       "      <td>0</td>\n",
       "      <td>...</td>\n",
       "      <td>0</td>\n",
       "      <td>0</td>\n",
       "      <td>0</td>\n",
       "      <td>0</td>\n",
       "      <td>0</td>\n",
       "      <td>0</td>\n",
       "      <td>0</td>\n",
       "      <td>0</td>\n",
       "      <td>0</td>\n",
       "      <td>0</td>\n",
       "    </tr>\n",
       "    <tr>\n",
       "      <th>3</th>\n",
       "      <td>NaN</td>\n",
       "      <td>Andorra</td>\n",
       "      <td>42.50630</td>\n",
       "      <td>1.521800</td>\n",
       "      <td>0</td>\n",
       "      <td>0</td>\n",
       "      <td>0</td>\n",
       "      <td>0</td>\n",
       "      <td>0</td>\n",
       "      <td>0</td>\n",
       "      <td>...</td>\n",
       "      <td>0</td>\n",
       "      <td>0</td>\n",
       "      <td>0</td>\n",
       "      <td>0</td>\n",
       "      <td>0</td>\n",
       "      <td>0</td>\n",
       "      <td>0</td>\n",
       "      <td>0</td>\n",
       "      <td>0</td>\n",
       "      <td>0</td>\n",
       "    </tr>\n",
       "    <tr>\n",
       "      <th>4</th>\n",
       "      <td>NaN</td>\n",
       "      <td>Angola</td>\n",
       "      <td>-11.20270</td>\n",
       "      <td>17.873900</td>\n",
       "      <td>0</td>\n",
       "      <td>0</td>\n",
       "      <td>0</td>\n",
       "      <td>0</td>\n",
       "      <td>0</td>\n",
       "      <td>0</td>\n",
       "      <td>...</td>\n",
       "      <td>0</td>\n",
       "      <td>0</td>\n",
       "      <td>0</td>\n",
       "      <td>0</td>\n",
       "      <td>0</td>\n",
       "      <td>0</td>\n",
       "      <td>0</td>\n",
       "      <td>0</td>\n",
       "      <td>0</td>\n",
       "      <td>0</td>\n",
       "    </tr>\n",
       "  </tbody>\n",
       "</table>\n",
       "<p>5 rows × 732 columns</p>\n",
       "</div>"
      ],
      "text/plain": [
       "  Province/State Country/Region       Lat       Long  1/22/20  1/23/20  \\\n",
       "0            NaN    Afghanistan  33.93911  67.709953        0        0   \n",
       "1            NaN        Albania  41.15330  20.168300        0        0   \n",
       "2            NaN        Algeria  28.03390   1.659600        0        0   \n",
       "3            NaN        Andorra  42.50630   1.521800        0        0   \n",
       "4            NaN         Angola -11.20270  17.873900        0        0   \n",
       "\n",
       "   1/24/20  1/25/20  1/26/20  1/27/20  ...  1/9/22  1/10/22  1/11/22  1/12/22  \\\n",
       "0        0        0        0        0  ...       0        0        0        0   \n",
       "1        0        0        0        0  ...       0        0        0        0   \n",
       "2        0        0        0        0  ...       0        0        0        0   \n",
       "3        0        0        0        0  ...       0        0        0        0   \n",
       "4        0        0        0        0  ...       0        0        0        0   \n",
       "\n",
       "   1/13/22  1/14/22  1/15/22  1/16/22  1/17/22  1/18/22  \n",
       "0        0        0        0        0        0        0  \n",
       "1        0        0        0        0        0        0  \n",
       "2        0        0        0        0        0        0  \n",
       "3        0        0        0        0        0        0  \n",
       "4        0        0        0        0        0        0  \n",
       "\n",
       "[5 rows x 732 columns]"
      ]
     },
     "execution_count": 5,
     "metadata": {},
     "output_type": "execute_result"
    }
   ],
   "source": [
    "recoveries_df.head()"
   ]
  },
  {
   "cell_type": "code",
   "execution_count": 6,
   "metadata": {
    "_kg_hide-input": true,
    "_kg_hide-output": true,
    "execution": {
     "iopub.execute_input": "2022-01-13T17:07:49.129747Z",
     "iopub.status.busy": "2022-01-13T17:07:49.129027Z",
     "iopub.status.idle": "2022-01-13T17:07:49.172305Z",
     "shell.execute_reply": "2022-01-13T17:07:49.171103Z",
     "shell.execute_reply.started": "2022-01-13T17:07:49.129405Z"
    }
   },
   "outputs": [
    {
     "data": {
      "text/html": [
       "<div>\n",
       "<style scoped>\n",
       "    .dataframe tbody tr th:only-of-type {\n",
       "        vertical-align: middle;\n",
       "    }\n",
       "\n",
       "    .dataframe tbody tr th {\n",
       "        vertical-align: top;\n",
       "    }\n",
       "\n",
       "    .dataframe thead th {\n",
       "        text-align: right;\n",
       "    }\n",
       "</style>\n",
       "<table border=\"1\" class=\"dataframe\">\n",
       "  <thead>\n",
       "    <tr style=\"text-align: right;\">\n",
       "      <th></th>\n",
       "      <th>FIPS</th>\n",
       "      <th>Admin2</th>\n",
       "      <th>Province_State</th>\n",
       "      <th>Country_Region</th>\n",
       "      <th>Last_Update</th>\n",
       "      <th>Lat</th>\n",
       "      <th>Long_</th>\n",
       "      <th>Confirmed</th>\n",
       "      <th>Deaths</th>\n",
       "      <th>Recovered</th>\n",
       "      <th>Active</th>\n",
       "      <th>Combined_Key</th>\n",
       "      <th>Incident_Rate</th>\n",
       "      <th>Case_Fatality_Ratio</th>\n",
       "    </tr>\n",
       "  </thead>\n",
       "  <tbody>\n",
       "    <tr>\n",
       "      <th>0</th>\n",
       "      <td>NaN</td>\n",
       "      <td>NaN</td>\n",
       "      <td>NaN</td>\n",
       "      <td>Afghanistan</td>\n",
       "      <td>2022-01-10 04:22:07</td>\n",
       "      <td>33.93911</td>\n",
       "      <td>67.709953</td>\n",
       "      <td>158381</td>\n",
       "      <td>7373</td>\n",
       "      <td>NaN</td>\n",
       "      <td>NaN</td>\n",
       "      <td>Afghanistan</td>\n",
       "      <td>406.852683</td>\n",
       "      <td>4.655230</td>\n",
       "    </tr>\n",
       "    <tr>\n",
       "      <th>1</th>\n",
       "      <td>NaN</td>\n",
       "      <td>NaN</td>\n",
       "      <td>NaN</td>\n",
       "      <td>Albania</td>\n",
       "      <td>2022-01-10 04:22:07</td>\n",
       "      <td>41.15330</td>\n",
       "      <td>20.168300</td>\n",
       "      <td>219694</td>\n",
       "      <td>3240</td>\n",
       "      <td>NaN</td>\n",
       "      <td>NaN</td>\n",
       "      <td>Albania</td>\n",
       "      <td>7634.095490</td>\n",
       "      <td>1.474779</td>\n",
       "    </tr>\n",
       "    <tr>\n",
       "      <th>2</th>\n",
       "      <td>NaN</td>\n",
       "      <td>NaN</td>\n",
       "      <td>NaN</td>\n",
       "      <td>Algeria</td>\n",
       "      <td>2022-01-10 04:22:07</td>\n",
       "      <td>28.03390</td>\n",
       "      <td>1.659600</td>\n",
       "      <td>222157</td>\n",
       "      <td>6339</td>\n",
       "      <td>NaN</td>\n",
       "      <td>NaN</td>\n",
       "      <td>Algeria</td>\n",
       "      <td>506.617368</td>\n",
       "      <td>2.853387</td>\n",
       "    </tr>\n",
       "    <tr>\n",
       "      <th>3</th>\n",
       "      <td>NaN</td>\n",
       "      <td>NaN</td>\n",
       "      <td>NaN</td>\n",
       "      <td>Andorra</td>\n",
       "      <td>2022-01-10 04:22:07</td>\n",
       "      <td>42.50630</td>\n",
       "      <td>1.521800</td>\n",
       "      <td>26408</td>\n",
       "      <td>141</td>\n",
       "      <td>NaN</td>\n",
       "      <td>NaN</td>\n",
       "      <td>Andorra</td>\n",
       "      <td>34178.476671</td>\n",
       "      <td>0.533929</td>\n",
       "    </tr>\n",
       "    <tr>\n",
       "      <th>4</th>\n",
       "      <td>NaN</td>\n",
       "      <td>NaN</td>\n",
       "      <td>NaN</td>\n",
       "      <td>Angola</td>\n",
       "      <td>2022-01-10 04:22:07</td>\n",
       "      <td>-11.20270</td>\n",
       "      <td>17.873900</td>\n",
       "      <td>89718</td>\n",
       "      <td>1826</td>\n",
       "      <td>NaN</td>\n",
       "      <td>NaN</td>\n",
       "      <td>Angola</td>\n",
       "      <td>272.978970</td>\n",
       "      <td>2.035266</td>\n",
       "    </tr>\n",
       "  </tbody>\n",
       "</table>\n",
       "</div>"
      ],
      "text/plain": [
       "   FIPS Admin2 Province_State Country_Region          Last_Update       Lat  \\\n",
       "0   NaN    NaN            NaN    Afghanistan  2022-01-10 04:22:07  33.93911   \n",
       "1   NaN    NaN            NaN        Albania  2022-01-10 04:22:07  41.15330   \n",
       "2   NaN    NaN            NaN        Algeria  2022-01-10 04:22:07  28.03390   \n",
       "3   NaN    NaN            NaN        Andorra  2022-01-10 04:22:07  42.50630   \n",
       "4   NaN    NaN            NaN         Angola  2022-01-10 04:22:07 -11.20270   \n",
       "\n",
       "       Long_  Confirmed  Deaths  Recovered  Active Combined_Key  \\\n",
       "0  67.709953     158381    7373        NaN     NaN  Afghanistan   \n",
       "1  20.168300     219694    3240        NaN     NaN      Albania   \n",
       "2   1.659600     222157    6339        NaN     NaN      Algeria   \n",
       "3   1.521800      26408     141        NaN     NaN      Andorra   \n",
       "4  17.873900      89718    1826        NaN     NaN       Angola   \n",
       "\n",
       "   Incident_Rate  Case_Fatality_Ratio  \n",
       "0     406.852683             4.655230  \n",
       "1    7634.095490             1.474779  \n",
       "2     506.617368             2.853387  \n",
       "3   34178.476671             0.533929  \n",
       "4     272.978970             2.035266  "
      ]
     },
     "execution_count": 6,
     "metadata": {},
     "output_type": "execute_result"
    }
   ],
   "source": [
    "latest_data.head()"
   ]
  },
  {
   "cell_type": "code",
   "execution_count": 7,
   "metadata": {
    "_kg_hide-input": true,
    "_kg_hide-output": true,
    "execution": {
     "iopub.execute_input": "2022-01-13T17:08:00.323104Z",
     "iopub.status.busy": "2022-01-13T17:08:00.322723Z",
     "iopub.status.idle": "2022-01-13T17:08:00.346662Z",
     "shell.execute_reply": "2022-01-13T17:08:00.346045Z",
     "shell.execute_reply.started": "2022-01-13T17:08:00.323040Z"
    }
   },
   "outputs": [
    {
     "data": {
      "text/html": [
       "<div>\n",
       "<style scoped>\n",
       "    .dataframe tbody tr th:only-of-type {\n",
       "        vertical-align: middle;\n",
       "    }\n",
       "\n",
       "    .dataframe tbody tr th {\n",
       "        vertical-align: top;\n",
       "    }\n",
       "\n",
       "    .dataframe thead th {\n",
       "        text-align: right;\n",
       "    }\n",
       "</style>\n",
       "<table border=\"1\" class=\"dataframe\">\n",
       "  <thead>\n",
       "    <tr style=\"text-align: right;\">\n",
       "      <th></th>\n",
       "      <th>Province_State</th>\n",
       "      <th>Country_Region</th>\n",
       "      <th>Last_Update</th>\n",
       "      <th>Lat</th>\n",
       "      <th>Long_</th>\n",
       "      <th>Confirmed</th>\n",
       "      <th>Deaths</th>\n",
       "      <th>Recovered</th>\n",
       "      <th>Active</th>\n",
       "      <th>FIPS</th>\n",
       "      <th>Incident_Rate</th>\n",
       "      <th>Total_Test_Results</th>\n",
       "      <th>People_Hospitalized</th>\n",
       "      <th>Case_Fatality_Ratio</th>\n",
       "      <th>UID</th>\n",
       "      <th>ISO3</th>\n",
       "      <th>Testing_Rate</th>\n",
       "      <th>Hospitalization_Rate</th>\n",
       "    </tr>\n",
       "  </thead>\n",
       "  <tbody>\n",
       "    <tr>\n",
       "      <th>0</th>\n",
       "      <td>Alabama</td>\n",
       "      <td>US</td>\n",
       "      <td>2022-01-10 04:32:48</td>\n",
       "      <td>32.3182</td>\n",
       "      <td>-86.9023</td>\n",
       "      <td>978632</td>\n",
       "      <td>16624</td>\n",
       "      <td>NaN</td>\n",
       "      <td>NaN</td>\n",
       "      <td>1.0</td>\n",
       "      <td>19959.108212</td>\n",
       "      <td>6650513.0</td>\n",
       "      <td>NaN</td>\n",
       "      <td>1.698698</td>\n",
       "      <td>84000001.0</td>\n",
       "      <td>USA</td>\n",
       "      <td>135636.591318</td>\n",
       "      <td>NaN</td>\n",
       "    </tr>\n",
       "    <tr>\n",
       "      <th>1</th>\n",
       "      <td>Alaska</td>\n",
       "      <td>US</td>\n",
       "      <td>2022-01-10 04:32:48</td>\n",
       "      <td>61.3707</td>\n",
       "      <td>-152.4044</td>\n",
       "      <td>165353</td>\n",
       "      <td>980</td>\n",
       "      <td>NaN</td>\n",
       "      <td>NaN</td>\n",
       "      <td>2.0</td>\n",
       "      <td>22603.257489</td>\n",
       "      <td>3741734.0</td>\n",
       "      <td>NaN</td>\n",
       "      <td>0.592671</td>\n",
       "      <td>84000002.0</td>\n",
       "      <td>USA</td>\n",
       "      <td>511483.777485</td>\n",
       "      <td>NaN</td>\n",
       "    </tr>\n",
       "    <tr>\n",
       "      <th>2</th>\n",
       "      <td>American Samoa</td>\n",
       "      <td>US</td>\n",
       "      <td>2022-01-10 04:32:48</td>\n",
       "      <td>-14.2710</td>\n",
       "      <td>-170.1320</td>\n",
       "      <td>10</td>\n",
       "      <td>0</td>\n",
       "      <td>NaN</td>\n",
       "      <td>NaN</td>\n",
       "      <td>60.0</td>\n",
       "      <td>17.972359</td>\n",
       "      <td>2140.0</td>\n",
       "      <td>NaN</td>\n",
       "      <td>0.000000</td>\n",
       "      <td>16.0</td>\n",
       "      <td>ASM</td>\n",
       "      <td>3846.084722</td>\n",
       "      <td>NaN</td>\n",
       "    </tr>\n",
       "    <tr>\n",
       "      <th>3</th>\n",
       "      <td>Arizona</td>\n",
       "      <td>US</td>\n",
       "      <td>2022-01-10 04:32:48</td>\n",
       "      <td>33.7298</td>\n",
       "      <td>-111.4312</td>\n",
       "      <td>1477483</td>\n",
       "      <td>24773</td>\n",
       "      <td>NaN</td>\n",
       "      <td>NaN</td>\n",
       "      <td>4.0</td>\n",
       "      <td>20080.915359</td>\n",
       "      <td>15991104.0</td>\n",
       "      <td>NaN</td>\n",
       "      <td>1.690164</td>\n",
       "      <td>84000004.0</td>\n",
       "      <td>USA</td>\n",
       "      <td>219696.740511</td>\n",
       "      <td>NaN</td>\n",
       "    </tr>\n",
       "    <tr>\n",
       "      <th>4</th>\n",
       "      <td>Arkansas</td>\n",
       "      <td>US</td>\n",
       "      <td>2022-01-10 04:32:48</td>\n",
       "      <td>34.9697</td>\n",
       "      <td>-92.3731</td>\n",
       "      <td>613014</td>\n",
       "      <td>9314</td>\n",
       "      <td>NaN</td>\n",
       "      <td>NaN</td>\n",
       "      <td>5.0</td>\n",
       "      <td>20313.247646</td>\n",
       "      <td>4530233.0</td>\n",
       "      <td>NaN</td>\n",
       "      <td>1.519378</td>\n",
       "      <td>84000005.0</td>\n",
       "      <td>USA</td>\n",
       "      <td>150116.873064</td>\n",
       "      <td>NaN</td>\n",
       "    </tr>\n",
       "  </tbody>\n",
       "</table>\n",
       "</div>"
      ],
      "text/plain": [
       "   Province_State Country_Region          Last_Update      Lat     Long_  \\\n",
       "0         Alabama             US  2022-01-10 04:32:48  32.3182  -86.9023   \n",
       "1          Alaska             US  2022-01-10 04:32:48  61.3707 -152.4044   \n",
       "2  American Samoa             US  2022-01-10 04:32:48 -14.2710 -170.1320   \n",
       "3         Arizona             US  2022-01-10 04:32:48  33.7298 -111.4312   \n",
       "4        Arkansas             US  2022-01-10 04:32:48  34.9697  -92.3731   \n",
       "\n",
       "   Confirmed  Deaths  Recovered  Active  FIPS  Incident_Rate  \\\n",
       "0     978632   16624        NaN     NaN   1.0   19959.108212   \n",
       "1     165353     980        NaN     NaN   2.0   22603.257489   \n",
       "2         10       0        NaN     NaN  60.0      17.972359   \n",
       "3    1477483   24773        NaN     NaN   4.0   20080.915359   \n",
       "4     613014    9314        NaN     NaN   5.0   20313.247646   \n",
       "\n",
       "   Total_Test_Results  People_Hospitalized  Case_Fatality_Ratio         UID  \\\n",
       "0           6650513.0                  NaN             1.698698  84000001.0   \n",
       "1           3741734.0                  NaN             0.592671  84000002.0   \n",
       "2              2140.0                  NaN             0.000000        16.0   \n",
       "3          15991104.0                  NaN             1.690164  84000004.0   \n",
       "4           4530233.0                  NaN             1.519378  84000005.0   \n",
       "\n",
       "  ISO3   Testing_Rate  Hospitalization_Rate  \n",
       "0  USA  135636.591318                   NaN  \n",
       "1  USA  511483.777485                   NaN  \n",
       "2  ASM    3846.084722                   NaN  \n",
       "3  USA  219696.740511                   NaN  \n",
       "4  USA  150116.873064                   NaN  "
      ]
     },
     "execution_count": 7,
     "metadata": {},
     "output_type": "execute_result"
    }
   ],
   "source": [
    "us_medical_data.head()"
   ]
  },
  {
   "cell_type": "code",
   "execution_count": 8,
   "metadata": {
    "_kg_hide-input": true,
    "_kg_hide-output": true,
    "execution": {
     "iopub.execute_input": "2022-01-13T17:08:03.793481Z",
     "iopub.status.busy": "2022-01-13T17:08:03.792840Z",
     "iopub.status.idle": "2022-01-13T17:08:03.797860Z",
     "shell.execute_reply": "2022-01-13T17:08:03.796769Z",
     "shell.execute_reply.started": "2022-01-13T17:08:03.793426Z"
    }
   },
   "outputs": [],
   "source": [
    "cols = confirmed_df.keys()"
   ]
  },
  {
   "cell_type": "markdown",
   "metadata": {},
   "source": [
    "Captando dados da pandemia em curso"
   ]
  },
  {
   "cell_type": "code",
   "execution_count": 9,
   "metadata": {
    "_kg_hide-input": true,
    "_kg_hide-output": true,
    "execution": {
     "iopub.execute_input": "2022-01-13T17:08:07.845072Z",
     "iopub.status.busy": "2022-01-13T17:08:07.844755Z",
     "iopub.status.idle": "2022-01-13T17:08:07.858659Z",
     "shell.execute_reply": "2022-01-13T17:08:07.857816Z",
     "shell.execute_reply.started": "2022-01-13T17:08:07.845026Z"
    }
   },
   "outputs": [],
   "source": [
    "confirmed = confirmed_df.loc[:, cols[4]:cols[-1]]\n",
    "deaths = deaths_df.loc[:, cols[4]:cols[-1]]\n",
    "\n",
    "# recoveries = recoveries_df.loc[:, cols[4]:cols[-1]] - Não Há Dados das Pessoas Recuperadas nesse repositório (DF 'zerado')."
   ]
  },
  {
   "cell_type": "code",
   "execution_count": 10,
   "metadata": {
    "_kg_hide-input": true,
    "_kg_hide-output": true,
    "execution": {
     "iopub.execute_input": "2022-01-13T17:08:10.830845Z",
     "iopub.status.busy": "2022-01-13T17:08:10.830541Z",
     "iopub.status.idle": "2022-01-13T17:08:11.096328Z",
     "shell.execute_reply": "2022-01-13T17:08:11.095257Z",
     "shell.execute_reply.started": "2022-01-13T17:08:10.830797Z"
    }
   },
   "outputs": [],
   "source": [
    "dates = confirmed.keys()\n",
    "world_cases = []\n",
    "total_deaths = [] \n",
    "mortality_rate = []\n",
    "# recovery_rate = [] \n",
    "# total_recovered = [] \n",
    "# total_active = [] \n",
    "\n",
    "for i in dates:\n",
    "    confirmed_sum = confirmed[i].sum()\n",
    "    death_sum = deaths[i].sum()\n",
    "#   recovered_sum = recoveries[i].sum()\n",
    "    \n",
    "# Casos confirmados e mortes\n",
    "\n",
    "    world_cases.append(confirmed_sum)\n",
    "    total_deaths.append(death_sum)\n",
    "#   total_recovered.append(recovered_sum)\n",
    "#   total_active.append(confirmed_sum-death_sum-recovered_sum)\n",
    "    \n",
    "# Taxa de Mortalidade\n",
    "\n",
    "    mortality_rate.append(death_sum/confirmed_sum)\n",
    "#   recovery_rate.append(recovered_sum/confirmed_sum)"
   ]
  },
  {
   "cell_type": "markdown",
   "metadata": {},
   "source": [
    "Contribuições diárias dos dados e médias móveis"
   ]
  },
  {
   "cell_type": "code",
   "execution_count": 11,
   "metadata": {
    "_kg_hide-input": true,
    "_kg_hide-output": true,
    "execution": {
     "iopub.execute_input": "2022-01-13T17:08:14.481472Z",
     "iopub.status.busy": "2022-01-13T17:08:14.481141Z",
     "iopub.status.idle": "2022-01-13T17:08:14.547921Z",
     "shell.execute_reply": "2022-01-13T17:08:14.547169Z",
     "shell.execute_reply.started": "2022-01-13T17:08:14.481413Z"
    }
   },
   "outputs": [],
   "source": [
    "def daily_increase(data):\n",
    "    d = [] \n",
    "    for i in range(len(data)):\n",
    "        if i == 0:\n",
    "            d.append(data[0])\n",
    "        else:\n",
    "            d.append(data[i]-data[i-1])\n",
    "    return d \n",
    "\n",
    "def moving_average(data, window_size):\n",
    "    moving_average = []\n",
    "    for i in range(len(data)):\n",
    "        if i + window_size < len(data):\n",
    "            moving_average.append(np.mean(data[i:i+window_size]))\n",
    "        else:\n",
    "            moving_average.append(np.mean(data[i:len(data)]))\n",
    "    return moving_average\n",
    "\n",
    "# Intervalo Considerado para a média móvel\n",
    "\n",
    "window = 7\n",
    "\n",
    "# Casos Confirmados\n",
    "\n",
    "world_daily_increase = daily_increase(world_cases)\n",
    "world_confirmed_avg= moving_average(world_cases, window)\n",
    "world_daily_increase_avg = moving_average(world_daily_increase, window)\n",
    "\n",
    "# Mortes\n",
    "\n",
    "world_daily_death = daily_increase(total_deaths)\n",
    "world_death_avg = moving_average(total_deaths, window)\n",
    "world_daily_death_avg = moving_average(world_daily_death, window)\n",
    "\n",
    "\n",
    "# recoveries\n",
    "# world_daily_recovery = daily_increase(total_recovered)\n",
    "# world_recovery_avg = moving_average(total_recovered, window)\n",
    "# world_daily_recovery_avg = moving_average(world_daily_recovery, window)\n",
    "\n",
    "\n",
    "# active \n",
    "# world_active_avg = moving_average(total_active, window)"
   ]
  },
  {
   "cell_type": "code",
   "execution_count": 12,
   "metadata": {
    "_kg_hide-input": true,
    "_kg_hide-output": true,
    "execution": {
     "iopub.execute_input": "2022-01-13T17:08:18.273219Z",
     "iopub.status.busy": "2022-01-13T17:08:18.272744Z",
     "iopub.status.idle": "2022-01-13T17:08:18.279335Z",
     "shell.execute_reply": "2022-01-13T17:08:18.278427Z",
     "shell.execute_reply.started": "2022-01-13T17:08:18.273174Z"
    }
   },
   "outputs": [],
   "source": [
    "days_since_1_22 = np.array([i for i in range(len(dates))]).reshape(-1, 1)\n",
    "world_cases = np.array(world_cases).reshape(-1, 1)\n",
    "total_deaths = np.array(total_deaths).reshape(-1, 1)\n",
    "# total_recovered = np.array(total_recovered).reshape(-1, 1)"
   ]
  },
  {
   "cell_type": "code",
   "execution_count": 13,
   "metadata": {},
   "outputs": [
    {
     "data": {
      "text/plain": [
       "728"
      ]
     },
     "execution_count": 13,
     "metadata": {},
     "output_type": "execute_result"
    }
   ],
   "source": [
    "len(days_since_1_22)"
   ]
  },
  {
   "cell_type": "markdown",
   "metadata": {},
   "source": [
    "Forcasting"
   ]
  },
  {
   "cell_type": "code",
   "execution_count": 14,
   "metadata": {
    "_kg_hide-input": true,
    "_kg_hide-output": true,
    "execution": {
     "iopub.execute_input": "2022-01-13T17:08:21.014611Z",
     "iopub.status.busy": "2022-01-13T17:08:21.014161Z",
     "iopub.status.idle": "2022-01-13T17:08:21.020174Z",
     "shell.execute_reply": "2022-01-13T17:08:21.019214Z",
     "shell.execute_reply.started": "2022-01-13T17:08:21.014567Z"
    }
   },
   "outputs": [],
   "source": [
    "days_in_future = 10\n",
    "future_forcast = np.array([i for i in range(len(dates) + days_in_future)]).reshape(-1, 1)\n",
    "adjusted_dates = future_forcast[:-10]"
   ]
  },
  {
   "cell_type": "markdown",
   "metadata": {},
   "source": [
    "Convertendo inteiros para datetime para melhorar as visualizações"
   ]
  },
  {
   "cell_type": "code",
   "execution_count": 15,
   "metadata": {
    "_kg_hide-input": true,
    "_kg_hide-output": true,
    "execution": {
     "iopub.execute_input": "2022-01-13T17:08:23.607324Z",
     "iopub.status.busy": "2022-01-13T17:08:23.606845Z",
     "iopub.status.idle": "2022-01-13T17:08:23.618164Z",
     "shell.execute_reply": "2022-01-13T17:08:23.617082Z",
     "shell.execute_reply.started": "2022-01-13T17:08:23.607279Z"
    }
   },
   "outputs": [],
   "source": [
    "start = '1/22/2020'\n",
    "start_date = datetime.datetime.strptime(start, '%m/%d/%Y')\n",
    "future_forcast_dates = []\n",
    "for i in range(len(future_forcast)):\n",
    "    future_forcast_dates.append((start_date + datetime.timedelta(days=i)).strftime('%m/%d/%Y'))"
   ]
  },
  {
   "cell_type": "code",
   "execution_count": 16,
   "metadata": {
    "_kg_hide-input": true,
    "_kg_hide-output": true,
    "execution": {
     "iopub.execute_input": "2022-01-13T17:08:26.433327Z",
     "iopub.status.busy": "2022-01-13T17:08:26.433030Z",
     "iopub.status.idle": "2022-01-13T17:08:26.438195Z",
     "shell.execute_reply": "2022-01-13T17:08:26.437494Z",
     "shell.execute_reply.started": "2022-01-13T17:08:26.433282Z"
    }
   },
   "outputs": [],
   "source": [
    "# Aqui modificamos um pouco o intervalo para ajudar o modelo a encontrar um padrão.\n",
    "\n",
    "days_to_skip = 365\n",
    "\n",
    "X_train_confirmed, X_test_confirmed, y_train_confirmed, y_test_confirmed = train_test_split(days_since_1_22[days_to_skip:], world_cases[days_to_skip:], test_size=0.1, shuffle=False) "
   ]
  },
  {
   "cell_type": "markdown",
   "metadata": {},
   "source": [
    "Modelo para prever número de casos confirmados. Usando SVM e regressão linear."
   ]
  },
  {
   "cell_type": "code",
   "execution_count": null,
   "metadata": {
    "_kg_hide-input": true,
    "_kg_hide-output": true,
    "execution": {
     "iopub.execute_input": "2022-01-13T17:08:29.065978Z",
     "iopub.status.busy": "2022-01-13T17:08:29.065617Z",
     "iopub.status.idle": "2022-01-13T17:08:29.069197Z",
     "shell.execute_reply": "2022-01-13T17:08:29.068510Z",
     "shell.execute_reply.started": "2022-01-13T17:08:29.065917Z"
    }
   },
   "outputs": [
    {
     "name": "stdout",
     "output_type": "stream",
     "text": [
      "Fitting 3 folds for each of 30 candidates, totalling 90 fits\n"
     ]
    },
    {
     "name": "stderr",
     "output_type": "stream",
     "text": [
      "[Parallel(n_jobs=-1)]: Using backend LokyBackend with 8 concurrent workers.\n"
     ]
    }
   ],
   "source": [
    "# Para encontrar os melhores parâmetros do SVM (Rodar uma só vez. Demora muito)...\n",
    "\n",
    "c = [0.01, 0.1, 1]\n",
    "gamma = [0.01, 0.1, 1]\n",
    "epsilon = [0.01, 0.1, 1]\n",
    "shrinking = [True, False]\n",
    "\n",
    "svm_grid = {'C': c, 'gamma' : gamma, 'epsilon': epsilon, 'shrinking' : shrinking}\n",
    "\n",
    "svm = SVR(kernel='poly', degree=3)\n",
    "\n",
    "svm_search = RandomizedSearchCV(svm, svm_grid, scoring='neg_mean_squared_error', cv=3, \n",
    "                                return_train_score=True, n_jobs=-1, n_iter=30, verbose=1)\n",
    "\n",
    "svm_search.fit(X_train_confirmed, y_train_confirmed)"
   ]
  },
  {
   "cell_type": "code",
   "execution_count": null,
   "metadata": {
    "_kg_hide-input": true,
    "_kg_hide-output": true,
    "execution": {
     "iopub.execute_input": "2021-08-13T22:08:22.113559Z",
     "iopub.status.busy": "2021-08-13T22:08:22.113213Z",
     "iopub.status.idle": "2021-08-13T22:08:22.122638Z",
     "shell.execute_reply": "2021-08-13T22:08:22.122002Z",
     "shell.execute_reply.started": "2021-08-13T22:08:22.113523Z"
    }
   },
   "outputs": [],
   "source": [
    "# svm_search.best_params_\n",
    "\n",
    "# c = 0.1\n",
    "# gamma = 0.01\n",
    "# epsilon = 1\n",
    "# shrinking = True"
   ]
  },
  {
   "cell_type": "code",
   "execution_count": null,
   "metadata": {
    "_kg_hide-input": true,
    "_kg_hide-output": true,
    "execution": {
     "iopub.execute_input": "2022-01-13T17:08:33.382507Z",
     "iopub.status.busy": "2022-01-13T17:08:33.381993Z",
     "iopub.status.idle": "2022-01-13T17:08:33.456247Z",
     "shell.execute_reply": "2022-01-13T17:08:33.455542Z",
     "shell.execute_reply.started": "2022-01-13T17:08:33.382461Z"
    }
   },
   "outputs": [],
   "source": [
    "# svm_confirmed = svm_search.best_estimator_\n",
    "\n",
    "svm_confirmed = SVR(shrinking=True, kernel='poly',gamma=0.01, epsilon=1,degree=3, C=0.1)\n",
    "\n",
    "svm_confirmed.fit(X_train_confirmed, y_train_confirmed)\n",
    "\n",
    "svm_pred = svm_confirmed.predict(future_forcast)"
   ]
  },
  {
   "cell_type": "code",
   "execution_count": null,
   "metadata": {
    "_kg_hide-input": true,
    "_kg_hide-output": true,
    "execution": {
     "iopub.execute_input": "2022-01-13T17:08:36.100397Z",
     "iopub.status.busy": "2022-01-13T17:08:36.100084Z",
     "iopub.status.idle": "2022-01-13T17:08:36.440655Z",
     "shell.execute_reply": "2022-01-13T17:08:36.439769Z",
     "shell.execute_reply.started": "2022-01-13T17:08:36.100342Z"
    }
   },
   "outputs": [],
   "source": [
    "# check against testing data \n",
    "\n",
    "svm_test_pred = svm_confirmed.predict(X_test_confirmed)\n",
    "plt.plot(y_test_confirmed)\n",
    "plt.plot(svm_test_pred)\n",
    "plt.legend(['Test Data', 'SVM Predictions'])\n",
    "print('MAE:', mean_absolute_error(svm_test_pred, y_test_confirmed))\n",
    "print('MSE:',mean_squared_error(svm_test_pred, y_test_confirmed))"
   ]
  },
  {
   "cell_type": "code",
   "execution_count": null,
   "metadata": {
    "_kg_hide-input": true,
    "_kg_hide-output": true,
    "execution": {
     "iopub.execute_input": "2022-01-13T17:08:43.815033Z",
     "iopub.status.busy": "2022-01-13T17:08:43.814645Z",
     "iopub.status.idle": "2022-01-13T17:08:43.824308Z",
     "shell.execute_reply": "2022-01-13T17:08:43.823233Z",
     "shell.execute_reply.started": "2022-01-13T17:08:43.814970Z"
    }
   },
   "outputs": [],
   "source": [
    "# transform our data for polynomial regression\n",
    "poly = PolynomialFeatures(degree=2)\n",
    "poly_X_train_confirmed = poly.fit_transform(X_train_confirmed)\n",
    "poly_X_test_confirmed = poly.fit_transform(X_test_confirmed)\n",
    "poly_future_forcast = poly.fit_transform(future_forcast)\n",
    "\n",
    "bayesian_poly = PolynomialFeatures(degree=2)\n",
    "bayesian_poly_X_train_confirmed = bayesian_poly.fit_transform(X_train_confirmed)\n",
    "bayesian_poly_X_test_confirmed = bayesian_poly.fit_transform(X_test_confirmed)\n",
    "bayesian_poly_future_forcast = bayesian_poly.fit_transform(future_forcast)"
   ]
  },
  {
   "cell_type": "code",
   "execution_count": null,
   "metadata": {
    "_kg_hide-input": true,
    "_kg_hide-output": true,
    "execution": {
     "iopub.execute_input": "2022-01-13T17:08:46.665301Z",
     "iopub.status.busy": "2022-01-13T17:08:46.664987Z",
     "iopub.status.idle": "2022-01-13T17:08:46.688280Z",
     "shell.execute_reply": "2022-01-13T17:08:46.687478Z",
     "shell.execute_reply.started": "2022-01-13T17:08:46.665245Z"
    }
   },
   "outputs": [],
   "source": [
    "# polynomial regression\n",
    "linear_model = LinearRegression(normalize=True, fit_intercept=False)\n",
    "linear_model.fit(poly_X_train_confirmed, y_train_confirmed)\n",
    "test_linear_pred = linear_model.predict(poly_X_test_confirmed)\n",
    "linear_pred = linear_model.predict(poly_future_forcast)\n",
    "print('MAE:', mean_absolute_error(test_linear_pred, y_test_confirmed))\n",
    "print('MSE:',mean_squared_error(test_linear_pred, y_test_confirmed))"
   ]
  },
  {
   "cell_type": "code",
   "execution_count": null,
   "metadata": {
    "_kg_hide-input": true,
    "_kg_hide-output": true,
    "execution": {
     "iopub.execute_input": "2022-01-13T17:08:50.057196Z",
     "iopub.status.busy": "2022-01-13T17:08:50.056748Z",
     "iopub.status.idle": "2022-01-13T17:08:50.061750Z",
     "shell.execute_reply": "2022-01-13T17:08:50.061004Z",
     "shell.execute_reply.started": "2022-01-13T17:08:50.057152Z"
    }
   },
   "outputs": [],
   "source": [
    "print(linear_model.coef_)"
   ]
  },
  {
   "cell_type": "code",
   "execution_count": null,
   "metadata": {
    "_kg_hide-input": true,
    "_kg_hide-output": true,
    "execution": {
     "iopub.execute_input": "2022-01-13T17:08:52.730505Z",
     "iopub.status.busy": "2022-01-13T17:08:52.729955Z",
     "iopub.status.idle": "2022-01-13T17:08:53.068842Z",
     "shell.execute_reply": "2022-01-13T17:08:53.067956Z",
     "shell.execute_reply.started": "2022-01-13T17:08:52.730457Z"
    }
   },
   "outputs": [],
   "source": [
    "plt.plot(y_test_confirmed)\n",
    "plt.plot(test_linear_pred)\n",
    "plt.legend(['Test Data', 'Polynomial Regression Predictions'])"
   ]
  },
  {
   "cell_type": "code",
   "execution_count": null,
   "metadata": {
    "_kg_hide-input": true,
    "_kg_hide-output": true,
    "execution": {
     "iopub.execute_input": "2022-01-13T17:08:58.485132Z",
     "iopub.status.busy": "2022-01-13T17:08:58.484503Z",
     "iopub.status.idle": "2022-01-13T17:09:00.720193Z",
     "shell.execute_reply": "2022-01-13T17:09:00.719279Z",
     "shell.execute_reply.started": "2022-01-13T17:08:58.485066Z"
    }
   },
   "outputs": [],
   "source": [
    "# bayesian ridge polynomial regression\n",
    "tol = [1e-6, 1e-5, 1e-4, 1e-3, 1e-2]\n",
    "alpha_1 = [1e-7, 1e-6, 1e-5, 1e-4, 1e-3]\n",
    "alpha_2 = [1e-7, 1e-6, 1e-5, 1e-4, 1e-3]\n",
    "lambda_1 = [1e-7, 1e-6, 1e-5, 1e-4, 1e-3]\n",
    "lambda_2 = [1e-7, 1e-6, 1e-5, 1e-4, 1e-3]\n",
    "normalize = [True, False]\n",
    "\n",
    "bayesian_grid = {'tol': tol, 'alpha_1': alpha_1, 'alpha_2' : alpha_2, 'lambda_1': lambda_1, 'lambda_2' : lambda_2, \n",
    "                 'normalize' : normalize}\n",
    "\n",
    "bayesian = BayesianRidge(fit_intercept=False)\n",
    "bayesian_search = RandomizedSearchCV(bayesian, bayesian_grid, scoring='neg_mean_squared_error', cv=3, return_train_score=True, n_jobs=-1, n_iter=40, verbose=1)\n",
    "bayesian_search.fit(bayesian_poly_X_train_confirmed, y_train_confirmed)"
   ]
  },
  {
   "cell_type": "code",
   "execution_count": null,
   "metadata": {
    "_kg_hide-input": true,
    "_kg_hide-output": true,
    "execution": {
     "iopub.execute_input": "2022-01-13T17:09:06.499333Z",
     "iopub.status.busy": "2022-01-13T17:09:06.499009Z",
     "iopub.status.idle": "2022-01-13T17:09:06.506101Z",
     "shell.execute_reply": "2022-01-13T17:09:06.505457Z",
     "shell.execute_reply.started": "2022-01-13T17:09:06.499284Z"
    }
   },
   "outputs": [],
   "source": [
    "bayesian_search.best_params_"
   ]
  },
  {
   "cell_type": "code",
   "execution_count": null,
   "metadata": {
    "_kg_hide-input": true,
    "_kg_hide-output": true,
    "execution": {
     "iopub.execute_input": "2022-01-13T17:09:09.640838Z",
     "iopub.status.busy": "2022-01-13T17:09:09.640120Z",
     "iopub.status.idle": "2022-01-13T17:09:09.648675Z",
     "shell.execute_reply": "2022-01-13T17:09:09.647982Z",
     "shell.execute_reply.started": "2022-01-13T17:09:09.640780Z"
    }
   },
   "outputs": [],
   "source": [
    "bayesian_confirmed = bayesian_search.best_estimator_\n",
    "test_bayesian_pred = bayesian_confirmed.predict(bayesian_poly_X_test_confirmed)\n",
    "bayesian_pred = bayesian_confirmed.predict(bayesian_poly_future_forcast)\n",
    "print('MAE:', mean_absolute_error(test_bayesian_pred, y_test_confirmed))\n",
    "print('MSE:',mean_squared_error(test_bayesian_pred, y_test_confirmed))"
   ]
  },
  {
   "cell_type": "code",
   "execution_count": null,
   "metadata": {
    "_kg_hide-input": true,
    "_kg_hide-output": true,
    "execution": {
     "iopub.execute_input": "2022-01-13T17:09:12.857261Z",
     "iopub.status.busy": "2022-01-13T17:09:12.856651Z",
     "iopub.status.idle": "2022-01-13T17:09:13.197780Z",
     "shell.execute_reply": "2022-01-13T17:09:13.196715Z",
     "shell.execute_reply.started": "2022-01-13T17:09:12.857210Z"
    }
   },
   "outputs": [],
   "source": [
    "plt.plot(y_test_confirmed)\n",
    "plt.plot(test_bayesian_pred)\n",
    "plt.legend(['Test Data', 'Bayesian Ridge Polynomial Predictions'])"
   ]
  },
  {
   "cell_type": "markdown",
   "metadata": {},
   "source": [
    "# Visão Global\n",
    " <a id='world_wide_graphs'></a>"
   ]
  },
  {
   "cell_type": "code",
   "execution_count": null,
   "metadata": {
    "_kg_hide-input": true,
    "_kg_hide-output": true,
    "execution": {
     "iopub.execute_input": "2022-01-13T17:09:20.703459Z",
     "iopub.status.busy": "2022-01-13T17:09:20.702968Z",
     "iopub.status.idle": "2022-01-13T17:09:20.708411Z",
     "shell.execute_reply": "2022-01-13T17:09:20.707678Z",
     "shell.execute_reply.started": "2022-01-13T17:09:20.703414Z"
    }
   },
   "outputs": [],
   "source": [
    "# helper method for flattening the data, so it can be displayed on a bar graph \n",
    "def flatten(arr):\n",
    "    a = [] \n",
    "    arr = arr.tolist()\n",
    "    for i in arr:\n",
    "        a.append(i[0])\n",
    "    return a"
   ]
  },
  {
   "cell_type": "code",
   "execution_count": null,
   "metadata": {
    "_kg_hide-input": true,
    "_kg_hide-output": false,
    "execution": {
     "iopub.execute_input": "2022-01-13T17:09:27.026014Z",
     "iopub.status.busy": "2022-01-13T17:09:27.025478Z",
     "iopub.status.idle": "2022-01-13T17:09:28.450275Z",
     "shell.execute_reply": "2022-01-13T17:09:28.449279Z",
     "shell.execute_reply.started": "2022-01-13T17:09:27.025969Z"
    }
   },
   "outputs": [],
   "source": [
    "adjusted_dates = adjusted_dates.reshape(1, -1)[0]\n",
    "plt.figure(figsize=(16, 10))\n",
    "plt.plot(adjusted_dates, world_cases)\n",
    "plt.plot(adjusted_dates, world_confirmed_avg, linestyle='dashed', color='orange')\n",
    "plt.title('# of Coronavirus Cases Over Time', size=30)\n",
    "plt.xlabel('Days Since 1/22/2020', size=30)\n",
    "plt.ylabel('# of Cases', size=30)\n",
    "plt.legend(['Worldwide Coronavirus Cases', 'Moving Average {} Days'.format(window)], prop={'size': 20})\n",
    "plt.xticks(size=20)\n",
    "plt.yticks(size=20)\n",
    "plt.show()\n",
    "\n",
    "plt.figure(figsize=(16, 10))\n",
    "plt.plot(adjusted_dates, total_deaths)\n",
    "plt.plot(adjusted_dates, world_death_avg, linestyle='dashed', color='orange')\n",
    "plt.title('# of Coronavirus Deaths Over Time', size=30)\n",
    "plt.xlabel('Days Since 1/22/2020', size=30)\n",
    "plt.ylabel('# of Cases', size=30)\n",
    "plt.legend(['Worldwide Coronavirus Deaths', 'Moving Average {} Days'.format(window)], prop={'size': 20})\n",
    "plt.xticks(size=20)\n",
    "plt.yticks(size=20)\n",
    "plt.show()\n",
    "\n",
    "# plt.figure(figsize=(16, 10))\n",
    "# plt.plot(adjusted_dates, total_recovered)\n",
    "# plt.plot(adjusted_dates, world_recovery_avg, linestyle='dashed', color='orange')\n",
    "# plt.title('# of Coronavirus Recoveries Over Time', size=30)\n",
    "# plt.xlabel('Days Since 1/22/2020', size=30)\n",
    "# plt.ylabel('# of Cases', size=30)\n",
    "# plt.legend(['Worldwide Coronavirus Recoveries', 'Moving Average {} Days'.format(window)], prop={'size': 20})\n",
    "# plt.xticks(size=20)\n",
    "# plt.yticks(size=20)\n",
    "# plt.show()\n",
    "\n",
    "# plt.figure(figsize=(16, 10))\n",
    "# plt.plot(adjusted_dates, total_active)\n",
    "# plt.plot(adjusted_dates, world_active_avg, linestyle='dashed', color='orange')\n",
    "# plt.title('# of Coronavirus Active Cases Over Time', size=30)\n",
    "# plt.xlabel('Days Since 1/22/2020', size=30)\n",
    "# plt.ylabel('# of Active Cases', size=30)\n",
    "# plt.legend(['Worldwide Coronavirus Active Cases', 'Moving Average {} Days'.format(window)], prop={'size': 20})\n",
    "# plt.xticks(size=20)\n",
    "# plt.yticks(size=20)\n",
    "# plt.show()"
   ]
  },
  {
   "cell_type": "code",
   "execution_count": null,
   "metadata": {
    "_kg_hide-input": true,
    "execution": {
     "iopub.execute_input": "2022-01-13T17:09:39.656926Z",
     "iopub.status.busy": "2022-01-13T17:09:39.656589Z",
     "iopub.status.idle": "2022-01-13T17:09:45.139382Z",
     "shell.execute_reply": "2022-01-13T17:09:45.138293Z",
     "shell.execute_reply.started": "2022-01-13T17:09:39.656851Z"
    }
   },
   "outputs": [],
   "source": [
    "plt.figure(figsize=(16, 10))\n",
    "plt.bar(adjusted_dates, world_daily_increase)\n",
    "plt.plot(adjusted_dates, world_daily_increase_avg, color='orange', linestyle='dashed')\n",
    "plt.title('World Daily Increases in Confirmed Cases', size=30)\n",
    "plt.xlabel('Days Since 1/22/2020', size=30)\n",
    "plt.ylabel('# of Cases', size=30)\n",
    "plt.legend(['Moving Average {} Days'.format(window), 'World Daily Increase in COVID-19 Cases'], prop={'size': 20})\n",
    "plt.xticks(size=20)\n",
    "plt.yticks(size=20)\n",
    "plt.show()\n",
    "\n",
    "plt.figure(figsize=(16, 10))\n",
    "plt.bar(adjusted_dates, world_daily_death)\n",
    "plt.plot(adjusted_dates, world_daily_death_avg, color='orange', linestyle='dashed')\n",
    "plt.title('World Daily Increases in Confirmed Deaths', size=30)\n",
    "plt.xlabel('Days Since 1/22/2020', size=30)\n",
    "plt.ylabel('# of Cases', size=30)\n",
    "plt.legend(['Moving Average {} Days'.format(window), 'World Daily Increase in COVID-19 Deaths'], prop={'size': 20})\n",
    "plt.xticks(size=20)\n",
    "plt.yticks(size=20)\n",
    "plt.show()\n",
    "\n",
    "# plt.figure(figsize=(16, 10))\n",
    "# plt.bar(adjusted_dates, world_daily_recovery)\n",
    "# plt.plot(adjusted_dates, world_daily_recovery_avg, color='orange', linestyle='dashed')\n",
    "# plt.title('World Daily Increases in Confirmed Recoveries', size=30)\n",
    "# plt.xlabel('Days Since 1/22/2020', size=30)\n",
    "# plt.ylabel('# of Cases', size=30)\n",
    "# plt.legend(['Moving Average {} Days'.format(window), 'World Daily Increase in COVID-19 Recoveries'], prop={'size': 20})\n",
    "# plt.xticks(size=20)\n",
    "# plt.yticks(size=20)\n",
    "# plt.show()"
   ]
  },
  {
   "cell_type": "code",
   "execution_count": null,
   "metadata": {
    "_kg_hide-input": true,
    "execution": {
     "iopub.execute_input": "2022-01-13T17:09:54.476204Z",
     "iopub.status.busy": "2022-01-13T17:09:54.475819Z",
     "iopub.status.idle": "2022-01-13T17:09:55.873502Z",
     "shell.execute_reply": "2022-01-13T17:09:55.872622Z",
     "shell.execute_reply.started": "2022-01-13T17:09:54.476151Z"
    }
   },
   "outputs": [],
   "source": [
    "plt.figure(figsize=(16, 10))\n",
    "plt.plot(adjusted_dates, np.log10(world_cases))\n",
    "plt.title('Log of # of Coronavirus Cases Over Time', size=30)\n",
    "plt.xlabel('Days Since 1/22/2020', size=30)\n",
    "plt.ylabel('# of Cases', size=30)\n",
    "plt.xticks(size=20)\n",
    "plt.yticks(size=20)\n",
    "plt.show()\n",
    "\n",
    "plt.figure(figsize=(16, 10))\n",
    "plt.plot(adjusted_dates, np.log10(total_deaths))\n",
    "plt.title('Log of # of Coronavirus Deaths Over Time', size=30)\n",
    "plt.xlabel('Days Since 1/22/2020', size=30)\n",
    "plt.ylabel('# of Cases', size=30)\n",
    "plt.xticks(size=20)\n",
    "plt.yticks(size=20)\n",
    "plt.show()\n",
    "\n",
    "# plt.figure(figsize=(16, 10))\n",
    "# plt.plot(adjusted_dates, np.log10(total_recovered))\n",
    "# plt.title('Log of # of Coronavirus Recoveries Over Time', size=30)\n",
    "# plt.xlabel('Days Since 1/22/2020', size=30)\n",
    "# plt.ylabel('# of Cases', size=30)\n",
    "# plt.xticks(size=20)\n",
    "# plt.yticks(size=20)\n",
    "# plt.show()"
   ]
  },
  {
   "cell_type": "code",
   "execution_count": null,
   "metadata": {
    "_kg_hide-input": true,
    "_kg_hide-output": true,
    "execution": {
     "iopub.execute_input": "2022-01-13T17:10:04.349284Z",
     "iopub.status.busy": "2022-01-13T17:10:04.348954Z",
     "iopub.status.idle": "2022-01-13T17:10:04.372312Z",
     "shell.execute_reply": "2022-01-13T17:10:04.371162Z",
     "shell.execute_reply.started": "2022-01-13T17:10:04.349227Z"
    }
   },
   "outputs": [],
   "source": [
    "def country_plot(x, y1, y2, y3, country):\n",
    "    # window is set as 14 in in the beginning of the notebook \n",
    "    confirmed_avg = moving_average(y1, window)\n",
    "    confirmed_increase_avg = moving_average(y2, window)\n",
    "    death_increase_avg = moving_average(y3, window)\n",
    "#     recovery_increase_avg = moving_average(y4, window)\n",
    "    \n",
    "    plt.figure(figsize=(16, 10))\n",
    "    plt.plot(x, y1)\n",
    "    plt.plot(x, confirmed_avg, color='red', linestyle='dashed')\n",
    "    plt.legend(['{} Confirmed Cases'.format(country), 'Moving Average {} Days'.format(window)], prop={'size': 20})\n",
    "    plt.title('{} Confirmed Cases'.format(country), size=30)\n",
    "    plt.xlabel('Days Since 1/22/2020', size=30)\n",
    "    plt.ylabel('# of Cases', size=30)\n",
    "    plt.xticks(size=20)\n",
    "    plt.yticks(size=20)\n",
    "    plt.show()\n",
    "\n",
    "    plt.figure(figsize=(16, 10))\n",
    "    plt.bar(x, y2)\n",
    "    plt.plot(x, confirmed_increase_avg, color='red', linestyle='dashed')\n",
    "    plt.legend(['Moving Average {} Days'.format(window), '{} Daily Increase in Confirmed Cases'.format(country)], prop={'size': 20})\n",
    "    plt.title('{} Daily Increases in Confirmed Cases'.format(country), size=30)\n",
    "    plt.xlabel('Days Since 1/22/2020', size=30)\n",
    "    plt.ylabel('# of Cases', size=30)\n",
    "    plt.xticks(size=20)\n",
    "    plt.yticks(size=20)\n",
    "    plt.show()\n",
    "\n",
    "    plt.figure(figsize=(16, 10))\n",
    "    plt.bar(x, y3)\n",
    "    plt.plot(x, death_increase_avg, color='red', linestyle='dashed')\n",
    "    plt.legend(['Moving Average {} Days'.format(window), '{} Daily Increase in Confirmed Deaths'.format(country)], prop={'size': 20})\n",
    "    plt.title('{} Daily Increases in Deaths'.format(country), size=30)\n",
    "    plt.xlabel('Days Since 1/22/2020', size=30)\n",
    "    plt.ylabel('# of Cases', size=30)\n",
    "    plt.xticks(size=20)\n",
    "    plt.yticks(size=20)\n",
    "    plt.show()\n",
    "\n",
    "#     plt.figure(figsize=(16, 10))\n",
    "#     plt.bar(x, y4)\n",
    "#     plt.plot(x, recovery_increase_avg, color='red', linestyle='dashed')\n",
    "#     plt.legend(['Moving Average {} Days'.format(window), '{} Daily Increase in Confirmed Recoveries'.format(country)], prop={'size': 20})\n",
    "#     plt.title('{} Daily Increases in Recoveries'.format(country), size=30)\n",
    "#     plt.xlabel('Days Since 1/22/2020', size=30)\n",
    "#     plt.ylabel('# of Cases', size=30)\n",
    "#     plt.xticks(size=20)\n",
    "#     plt.yticks(size=20)\n",
    "#     plt.show()\n",
    "      \n",
    "# helper function for getting country's cases, deaths, and recoveries        \n",
    "def get_country_info(country_name):\n",
    "    country_cases = []\n",
    "    country_deaths = []\n",
    "#     country_recoveries = []  \n",
    "    \n",
    "    for i in dates:\n",
    "        country_cases.append(confirmed_df[confirmed_df['Country/Region']==country_name][i].sum())\n",
    "        country_deaths.append(deaths_df[deaths_df['Country/Region']==country_name][i].sum())\n",
    "#         country_recoveries.append(recoveries_df[recoveries_df['Country/Region']==country_name][i].sum())\n",
    "    return (country_cases, country_deaths)\n",
    "    \n",
    "    \n",
    "def country_visualizations(country_name):\n",
    "    country_info = get_country_info(country_name)\n",
    "    country_cases = country_info[0]\n",
    "    country_deaths = country_info[1]\n",
    "    \n",
    "    country_daily_increase = daily_increase(country_cases)\n",
    "    country_daily_death = daily_increase(country_deaths)\n",
    "#     country_daily_recovery = daily_increase(country_recoveries)\n",
    "    \n",
    "    country_plot(adjusted_dates, country_cases, country_daily_increase, country_daily_death, country_name)\n",
    "    "
   ]
  },
  {
   "cell_type": "markdown",
   "metadata": {},
   "source": [
    "# Country Specific Graphs\n",
    "Unlike the previous section, we are taking a look at specific countries. This allows us to examine the pandemic at a local level. \n",
    "<a id='country_graphs'></a>"
   ]
  },
  {
   "cell_type": "code",
   "execution_count": null,
   "metadata": {
    "_kg_hide-input": true,
    "execution": {
     "iopub.execute_input": "2022-01-13T17:10:14.551207Z",
     "iopub.status.busy": "2022-01-13T17:10:14.550644Z"
    }
   },
   "outputs": [],
   "source": [
    "countries = ['US', 'Russia', 'India', 'Brazil', 'South Africa', 'China', 'Italy',\n",
    "             'Germany', 'Spain', 'France', 'United Kingdom', 'Peru', 'Mexico', 'Colombia', 'Argentina', 'Saudi Arabia', 'Iran', 'Bangladesh',\n",
    "            'Pakistan', 'Turkey', 'Philippines', 'Iraq', 'Indonesia', 'Israel', 'Ukraine', 'Ecuador', 'Bolivia', 'Netherlands', 'Belgium', 'Poland', 'Czechia', 'Switzerland',\n",
    "            'Romania', 'Morocco','Portugal', 'Austria', 'Sweden'] \n",
    "\n",
    "for country in countries:\n",
    "    country_visualizations(country)"
   ]
  },
  {
   "cell_type": "code",
   "execution_count": null,
   "metadata": {
    "_kg_hide-input": true,
    "execution": {
     "iopub.status.busy": "2021-08-13T22:16:12.243477Z",
     "iopub.status.idle": "2021-08-13T22:16:12.243844Z"
    }
   },
   "outputs": [],
   "source": [
    "# Country Comparison\n",
    "# removed redundant code\n",
    "\n",
    "compare_countries = ['India', 'US', 'Brazil', 'Russia', 'United Kingdom', 'France'] \n",
    "graph_name = ['Coronavirus Confirmed Cases', 'Coronavirus Confirmed Deaths']\n",
    "\n",
    "for num in range(2):\n",
    "    plt.figure(figsize=(16, 10))\n",
    "    for country in compare_countries:\n",
    "        plt.plot(get_country_info(country)[num])\n",
    "    plt.legend(compare_countries, prop={'size': 20})\n",
    "    plt.xlabel('Days since 1/22/2020', size=30)\n",
    "    plt.ylabel('# of Cases', size=30)\n",
    "    plt.title(graph_name[num], size=30)\n",
    "    plt.xticks(size=20)\n",
    "    plt.yticks(size=20)\n",
    "    plt.show()"
   ]
  },
  {
   "cell_type": "code",
   "execution_count": null,
   "metadata": {
    "_kg_hide-input": true,
    "_kg_hide-output": true,
    "execution": {
     "iopub.execute_input": "2021-08-13T22:12:52.409146Z",
     "iopub.status.busy": "2021-08-13T22:12:52.408874Z",
     "iopub.status.idle": "2021-08-13T22:12:52.416734Z",
     "shell.execute_reply": "2021-08-13T22:12:52.415987Z",
     "shell.execute_reply.started": "2021-08-13T22:12:52.409096Z"
    }
   },
   "outputs": [],
   "source": [
    "def plot_predictions(x, y, pred, algo_name, color):\n",
    "    plt.figure(figsize=(16, 10))\n",
    "    plt.plot(x, y)\n",
    "    plt.plot(future_forcast, pred, linestyle='dashed', color=color)\n",
    "    plt.title('Worldwide Coronavirus Cases Over Time', size=30)\n",
    "    plt.xlabel('Days Since 1/22/2020', size=30)\n",
    "    plt.ylabel('# of Cases', size=30)\n",
    "    plt.legend(['Confirmed Cases', algo_name], prop={'size': 20})\n",
    "    plt.xticks(size=20)\n",
    "    plt.yticks(size=20)\n",
    "    plt.show()"
   ]
  },
  {
   "cell_type": "markdown",
   "metadata": {},
   "source": [
    "# Predictions for confirmed coronavirus cases worldwide\n",
    "These three models predict future covid cases on a global level. \n",
    "\n",
    "The prediction models include \n",
    "* Support Vector Machine \n",
    "* Polynomial Regression \n",
    "* Bayesian Ridge Regression \n",
    "\n",
    "<a id='prediction'></a>"
   ]
  },
  {
   "cell_type": "code",
   "execution_count": null,
   "metadata": {
    "_kg_hide-input": true,
    "_kg_hide-output": false,
    "execution": {
     "iopub.execute_input": "2021-08-13T22:12:52.418262Z",
     "iopub.status.busy": "2021-08-13T22:12:52.417879Z",
     "iopub.status.idle": "2021-08-13T22:12:52.99303Z",
     "shell.execute_reply": "2021-08-13T22:12:52.992174Z",
     "shell.execute_reply.started": "2021-08-13T22:12:52.418068Z"
    }
   },
   "outputs": [],
   "source": [
    "plot_predictions(adjusted_dates, world_cases, svm_pred, 'SVM Predictions', 'purple')"
   ]
  },
  {
   "cell_type": "code",
   "execution_count": null,
   "metadata": {
    "_kg_hide-input": true,
    "execution": {
     "iopub.execute_input": "2021-08-13T22:12:52.994928Z",
     "iopub.status.busy": "2021-08-13T22:12:52.994627Z",
     "iopub.status.idle": "2021-08-13T22:12:53.5853Z",
     "shell.execute_reply": "2021-08-13T22:12:53.584588Z",
     "shell.execute_reply.started": "2021-08-13T22:12:52.994878Z"
    }
   },
   "outputs": [],
   "source": [
    "plot_predictions(adjusted_dates, world_cases, linear_pred, 'Polynomial Regression Predictions', 'orange')"
   ]
  },
  {
   "cell_type": "code",
   "execution_count": null,
   "metadata": {
    "_kg_hide-input": true,
    "_kg_hide-output": false,
    "execution": {
     "iopub.execute_input": "2021-08-13T22:12:53.586947Z",
     "iopub.status.busy": "2021-08-13T22:12:53.586506Z",
     "iopub.status.idle": "2021-08-13T22:12:54.159686Z",
     "shell.execute_reply": "2021-08-13T22:12:54.158628Z",
     "shell.execute_reply.started": "2021-08-13T22:12:53.586903Z"
    }
   },
   "outputs": [],
   "source": [
    "plot_predictions(adjusted_dates, world_cases, bayesian_pred, 'Bayesian Ridge Regression Predictions', 'green')"
   ]
  },
  {
   "cell_type": "code",
   "execution_count": null,
   "metadata": {
    "_kg_hide-input": true,
    "execution": {
     "iopub.execute_input": "2021-08-13T22:12:54.161572Z",
     "iopub.status.busy": "2021-08-13T22:12:54.161197Z",
     "iopub.status.idle": "2021-08-13T22:12:54.276289Z",
     "shell.execute_reply": "2021-08-13T22:12:54.275373Z",
     "shell.execute_reply.started": "2021-08-13T22:12:54.161503Z"
    }
   },
   "outputs": [],
   "source": [
    "# Future predictions using SVM \n",
    "svm_df = pd.DataFrame({'Date': future_forcast_dates[-10:], 'SVM Predicted # of Confirmed Cases Worldwide': np.round(svm_pred[-10:])})\n",
    "svm_df.style.background_gradient(cmap='Reds')"
   ]
  },
  {
   "cell_type": "code",
   "execution_count": null,
   "metadata": {
    "_kg_hide-input": true,
    "execution": {
     "iopub.execute_input": "2021-08-13T22:12:54.278374Z",
     "iopub.status.busy": "2021-08-13T22:12:54.278006Z",
     "iopub.status.idle": "2021-08-13T22:12:54.300061Z",
     "shell.execute_reply": "2021-08-13T22:12:54.299143Z",
     "shell.execute_reply.started": "2021-08-13T22:12:54.278311Z"
    }
   },
   "outputs": [],
   "source": [
    "# Future predictions using polynomial regression\n",
    "linear_pred = linear_pred.reshape(1,-1)[0]\n",
    "linear_df = pd.DataFrame({'Date': future_forcast_dates[-10:], 'Polynomial Predicted # of Confirmed Cases Worldwide': np.round(linear_pred[-10:])})\n",
    "linear_df.style.background_gradient(cmap='Reds')"
   ]
  },
  {
   "cell_type": "code",
   "execution_count": null,
   "metadata": {
    "_kg_hide-input": true,
    "_kg_hide-output": false,
    "execution": {
     "iopub.execute_input": "2021-08-13T22:12:54.301827Z",
     "iopub.status.busy": "2021-08-13T22:12:54.301485Z",
     "iopub.status.idle": "2021-08-13T22:12:54.32529Z",
     "shell.execute_reply": "2021-08-13T22:12:54.32436Z",
     "shell.execute_reply.started": "2021-08-13T22:12:54.301776Z"
    }
   },
   "outputs": [],
   "source": [
    "# Future predictions using Bayesian Ridge \n",
    "bayesian_df = pd.DataFrame({'Date': future_forcast_dates[-10:], 'Bayesian Ridge Predicted # of Confirmed Cases Worldwide': np.round(bayesian_pred[-10:])})\n",
    "bayesian_df.style.background_gradient(cmap='Reds')"
   ]
  },
  {
   "cell_type": "markdown",
   "metadata": {},
   "source": [
    "Mortality Rate (worldwide) **susceptible to change **"
   ]
  },
  {
   "cell_type": "code",
   "execution_count": null,
   "metadata": {
    "_kg_hide-input": true,
    "execution": {
     "iopub.execute_input": "2021-08-13T22:12:54.326838Z",
     "iopub.status.busy": "2021-08-13T22:12:54.326562Z",
     "iopub.status.idle": "2021-08-13T22:12:54.863619Z",
     "shell.execute_reply": "2021-08-13T22:12:54.862644Z",
     "shell.execute_reply.started": "2021-08-13T22:12:54.326787Z"
    }
   },
   "outputs": [],
   "source": [
    "mean_mortality_rate = np.mean(mortality_rate)\n",
    "plt.figure(figsize=(16, 10))\n",
    "plt.plot(adjusted_dates, mortality_rate, color='orange')\n",
    "plt.axhline(y = mean_mortality_rate,linestyle='--', color='black')\n",
    "plt.title('Worldwide Mortality Rate of Coronavirus Over Time', size=30)\n",
    "plt.xlabel('Days Since 1/22/2020', size=30)\n",
    "plt.ylabel('Case Mortality Rate', size=30)\n",
    "plt.xticks(size=20)\n",
    "plt.yticks(size=20)\n",
    "plt.show()"
   ]
  },
  {
   "cell_type": "markdown",
   "metadata": {},
   "source": [
    "Recovery Rate (worldwide) **suceptible to change **"
   ]
  },
  {
   "cell_type": "code",
   "execution_count": null,
   "metadata": {
    "_kg_hide-input": true,
    "execution": {
     "iopub.execute_input": "2021-08-13T22:12:54.865128Z",
     "iopub.status.busy": "2021-08-13T22:12:54.864865Z",
     "iopub.status.idle": "2021-08-13T22:12:54.868692Z",
     "shell.execute_reply": "2021-08-13T22:12:54.867946Z",
     "shell.execute_reply.started": "2021-08-13T22:12:54.865086Z"
    }
   },
   "outputs": [],
   "source": [
    "# mean_recovery_rate = np.mean(recovery_rate)\n",
    "# plt.figure(figsize=(16, 10))\n",
    "# plt.plot(adjusted_dates, recovery_rate, color='blue')\n",
    "# plt.title('Worldwide Recovery Rate of Coronavirus Over Time', size=30)\n",
    "# plt.xlabel('Days Since 1/22/2020', size=30)\n",
    "# plt.ylabel('Case Recovery Rate', size=30)\n",
    "# plt.xticks(size=20)\n",
    "# plt.yticks(size=20)\n",
    "# plt.show()"
   ]
  },
  {
   "cell_type": "markdown",
   "metadata": {},
   "source": [
    "Graphing deaths against recoveries"
   ]
  },
  {
   "cell_type": "code",
   "execution_count": null,
   "metadata": {
    "_kg_hide-input": true,
    "execution": {
     "iopub.execute_input": "2021-08-13T22:12:54.870041Z",
     "iopub.status.busy": "2021-08-13T22:12:54.869822Z",
     "iopub.status.idle": "2021-08-13T22:12:54.881859Z",
     "shell.execute_reply": "2021-08-13T22:12:54.881023Z",
     "shell.execute_reply.started": "2021-08-13T22:12:54.870002Z"
    }
   },
   "outputs": [],
   "source": [
    "# plt.figure(figsize=(16, 10))\n",
    "# plt.plot(adjusted_dates, total_deaths, color='r')\n",
    "# plt.plot(adjusted_dates, total_recovered, color='green')\n",
    "# plt.legend(['death', 'recoveries'], loc='best', fontsize=25)\n",
    "# plt.title('Worldwide Coronavirus Cases', size=30)\n",
    "# plt.xlabel('Days Since 1/22/2020', size=30)\n",
    "# plt.ylabel('# of Cases', size=30)\n",
    "# plt.xticks(size=20)\n",
    "# plt.yticks(size=20)\n",
    "# plt.show()"
   ]
  },
  {
   "cell_type": "markdown",
   "metadata": {},
   "source": [
    "Plotting the number of deaths against the number of recoveries. "
   ]
  },
  {
   "cell_type": "code",
   "execution_count": null,
   "metadata": {
    "_kg_hide-input": true,
    "execution": {
     "iopub.execute_input": "2021-08-13T22:12:54.883727Z",
     "iopub.status.busy": "2021-08-13T22:12:54.883371Z",
     "iopub.status.idle": "2021-08-13T22:12:54.893082Z",
     "shell.execute_reply": "2021-08-13T22:12:54.891887Z",
     "shell.execute_reply.started": "2021-08-13T22:12:54.883579Z"
    }
   },
   "outputs": [],
   "source": [
    "# plt.figure(figsize=(16, 10))\n",
    "# plt.plot(total_recovered, total_deaths)\n",
    "# plt.title('# of Coronavirus Deaths vs. # of Coronavirus Recoveries', size=30)\n",
    "# plt.xlabel('# of Coronavirus Recoveries', size=30)\n",
    "# plt.ylabel('# of Coronavirus Deaths', size=30)\n",
    "# plt.xticks(size=20)\n",
    "# plt.yticks(size=20)\n",
    "# plt.show()"
   ]
  },
  {
   "cell_type": "markdown",
   "metadata": {},
   "source": [
    "Getting information about **countries/regions** that have confirmed coronavirus cases"
   ]
  },
  {
   "cell_type": "code",
   "execution_count": null,
   "metadata": {
    "execution": {
     "iopub.execute_input": "2021-08-13T22:12:54.895001Z",
     "iopub.status.busy": "2021-08-13T22:12:54.894629Z",
     "iopub.status.idle": "2021-08-13T22:12:54.930553Z",
     "shell.execute_reply": "2021-08-13T22:12:54.929718Z",
     "shell.execute_reply.started": "2021-08-13T22:12:54.894857Z"
    }
   },
   "outputs": [],
   "source": [
    "latest_data"
   ]
  },
  {
   "cell_type": "code",
   "execution_count": null,
   "metadata": {
    "_kg_hide-input": true,
    "_kg_hide-output": true,
    "execution": {
     "iopub.execute_input": "2021-08-13T22:12:54.932325Z",
     "iopub.status.busy": "2021-08-13T22:12:54.931981Z",
     "iopub.status.idle": "2021-08-13T22:12:54.939746Z",
     "shell.execute_reply": "2021-08-13T22:12:54.93865Z",
     "shell.execute_reply.started": "2021-08-13T22:12:54.932254Z"
    }
   },
   "outputs": [],
   "source": [
    "unique_countries =  list(latest_data['Country_Region'].unique())"
   ]
  },
  {
   "cell_type": "code",
   "execution_count": null,
   "metadata": {
    "_kg_hide-input": true,
    "execution": {
     "iopub.execute_input": "2021-08-13T22:12:54.941324Z",
     "iopub.status.busy": "2021-08-13T22:12:54.94107Z",
     "iopub.status.idle": "2021-08-13T22:12:56.279676Z",
     "shell.execute_reply": "2021-08-13T22:12:56.278925Z",
     "shell.execute_reply.started": "2021-08-13T22:12:54.941276Z"
    }
   },
   "outputs": [],
   "source": [
    "country_confirmed_cases = []\n",
    "country_death_cases = [] \n",
    "country_active_cases = []\n",
    "# country_recovery_cases = []\n",
    "country_incidence_rate = [] \n",
    "country_mortality_rate = [] \n",
    "\n",
    "no_cases = []\n",
    "for i in unique_countries:\n",
    "    cases = latest_data[latest_data['Country_Region']==i]['Confirmed'].sum()\n",
    "    if cases > 0:\n",
    "        country_confirmed_cases.append(cases)\n",
    "    else:\n",
    "        no_cases.append(i)\n",
    "        \n",
    "for i in no_cases:\n",
    "    unique_countries.remove(i)\n",
    "    \n",
    "# sort countries by the number of confirmed cases\n",
    "unique_countries = [k for k, v in sorted(zip(unique_countries, country_confirmed_cases), key=operator.itemgetter(1), reverse=True)]\n",
    "for i in range(len(unique_countries)):\n",
    "    country_confirmed_cases[i] = latest_data[latest_data['Country_Region']==unique_countries[i]]['Confirmed'].sum()\n",
    "    country_death_cases.append(latest_data[latest_data['Country_Region']==unique_countries[i]]['Deaths'].sum())\n",
    "#     country_recovery_cases.append(latest_data[latest_data['Country_Region']==unique_countries[i]]['Recovered'].sum())\n",
    "#     country_active_cases.append(latest_data[latest_data['Country_Region']==unique_countries[i]]['Active'].sum())\n",
    "    country_incidence_rate.append(latest_data[latest_data['Country_Region']==unique_countries[i]]['Incident_Rate'].sum())\n",
    "    country_mortality_rate.append(country_death_cases[i]/country_confirmed_cases[i])"
   ]
  },
  {
   "cell_type": "markdown",
   "metadata": {},
   "source": [
    "# Data table\n",
    "<a id='data_table'></a>\n",
    "This shows covid data for several countries. The table includes the number of confirmed cases, deaths, incidence rate, and mortality rate. "
   ]
  },
  {
   "cell_type": "code",
   "execution_count": null,
   "metadata": {
    "_kg_hide-input": true,
    "_kg_hide-output": false,
    "execution": {
     "iopub.execute_input": "2021-08-13T22:12:56.281278Z",
     "iopub.status.busy": "2021-08-13T22:12:56.280861Z",
     "iopub.status.idle": "2021-08-13T22:12:56.509795Z",
     "shell.execute_reply": "2021-08-13T22:12:56.50909Z",
     "shell.execute_reply.started": "2021-08-13T22:12:56.281235Z"
    }
   },
   "outputs": [],
   "source": [
    "country_df = pd.DataFrame({'Country Name': unique_countries, 'Number of Confirmed Cases': [format(int(i), ',d') for i in country_confirmed_cases],\n",
    "                          'Number of Deaths': [format(int(i), ',d') for i in country_death_cases], \n",
    "                          'Incidence Rate' : country_incidence_rate,\n",
    "                          'Mortality Rate': country_mortality_rate})\n",
    "# number of cases per country/region\n",
    "\n",
    "country_df.style.background_gradient(cmap='Oranges')"
   ]
  },
  {
   "cell_type": "code",
   "execution_count": null,
   "metadata": {
    "_kg_hide-input": true,
    "execution": {
     "iopub.execute_input": "2021-08-13T22:12:56.511411Z",
     "iopub.status.busy": "2021-08-13T22:12:56.510989Z",
     "iopub.status.idle": "2021-08-13T22:12:56.517148Z",
     "shell.execute_reply": "2021-08-13T22:12:56.516267Z",
     "shell.execute_reply.started": "2021-08-13T22:12:56.511369Z"
    }
   },
   "outputs": [],
   "source": [
    "unique_provinces =  list(latest_data['Province_State'].unique())"
   ]
  },
  {
   "cell_type": "markdown",
   "metadata": {},
   "source": [
    "Getting the latest information about **provinces/states** that have confirmed coronavirus cases"
   ]
  },
  {
   "cell_type": "code",
   "execution_count": null,
   "metadata": {
    "_kg_hide-input": true,
    "execution": {
     "iopub.execute_input": "2021-08-13T22:12:56.519329Z",
     "iopub.status.busy": "2021-08-13T22:12:56.518839Z",
     "iopub.status.idle": "2021-08-13T22:13:01.092707Z",
     "shell.execute_reply": "2021-08-13T22:13:01.091681Z",
     "shell.execute_reply.started": "2021-08-13T22:12:56.519273Z"
    }
   },
   "outputs": [],
   "source": [
    "province_confirmed_cases = []\n",
    "province_country = [] \n",
    "province_death_cases = [] \n",
    "# province_recovery_cases = []\n",
    "# province_active = [] \n",
    "province_incidence_rate = []\n",
    "province_mortality_rate = [] \n",
    "\n",
    "no_cases = [] \n",
    "for i in unique_provinces:\n",
    "    cases = latest_data[latest_data['Province_State']==i]['Confirmed'].sum()\n",
    "    if cases > 0:\n",
    "        province_confirmed_cases.append(cases)\n",
    "    else:\n",
    "        no_cases.append(i)\n",
    " \n",
    "# remove areas with no confirmed cases\n",
    "for i in no_cases:\n",
    "    unique_provinces.remove(i)\n",
    "    \n",
    "unique_provinces = [k for k, v in sorted(zip(unique_provinces, province_confirmed_cases), key=operator.itemgetter(1), reverse=True)]\n",
    "for i in range(len(unique_provinces)):\n",
    "    province_confirmed_cases[i] = latest_data[latest_data['Province_State']==unique_provinces[i]]['Confirmed'].sum()\n",
    "    province_country.append(latest_data[latest_data['Province_State']==unique_provinces[i]]['Country_Region'].unique()[0])\n",
    "    province_death_cases.append(latest_data[latest_data['Province_State']==unique_provinces[i]]['Deaths'].sum())\n",
    "#     province_recovery_cases.append(latest_data[latest_data['Province_State']==unique_provinces[i]]['Recovered'].sum())\n",
    "#     province_active.append(latest_data[latest_data['Province_State']==unique_provinces[i]]['Active'].sum())\n",
    "    province_incidence_rate.append(latest_data[latest_data['Province_State']==unique_provinces[i]]['Incident_Rate'].sum())\n",
    "    province_mortality_rate.append(province_death_cases[i]/province_confirmed_cases[i])"
   ]
  },
  {
   "cell_type": "code",
   "execution_count": null,
   "metadata": {
    "_kg_hide-input": true,
    "execution": {
     "iopub.execute_input": "2021-08-13T22:13:01.094449Z",
     "iopub.status.busy": "2021-08-13T22:13:01.094154Z",
     "iopub.status.idle": "2021-08-13T22:13:01.098337Z",
     "shell.execute_reply": "2021-08-13T22:13:01.097462Z",
     "shell.execute_reply.started": "2021-08-13T22:13:01.094394Z"
    }
   },
   "outputs": [],
   "source": [
    "# nan_indices = [] \n",
    "\n",
    "# # handle nan if there is any, it is usually a float: float('nan')\n",
    "\n",
    "# for i in range(len(unique_provinces)):\n",
    "#     if type(unique_provinces[i]) == float:\n",
    "#         nan_indices.append(i)\n",
    "\n",
    "# unique_provinces = list(unique_provinces)\n",
    "# province_confirmed_cases = list(province_confirmed_cases)\n",
    "\n",
    "# for i in nan_indices:\n",
    "#     unique_provinces.pop(i)\n",
    "#     province_confirmed_cases.pop(i)"
   ]
  },
  {
   "cell_type": "code",
   "execution_count": null,
   "metadata": {
    "_kg_hide-input": true,
    "execution": {
     "iopub.execute_input": "2021-08-13T22:13:01.099941Z",
     "iopub.status.busy": "2021-08-13T22:13:01.099544Z",
     "iopub.status.idle": "2021-08-13T22:13:01.241502Z",
     "shell.execute_reply": "2021-08-13T22:13:01.240218Z",
     "shell.execute_reply.started": "2021-08-13T22:13:01.099888Z"
    }
   },
   "outputs": [],
   "source": [
    "# number of cases per province/state/city top 100 \n",
    "province_limit = 100 \n",
    "province_df = pd.DataFrame({'Province/State Name': unique_provinces[:province_limit], 'Country': province_country[:province_limit], 'Number of Confirmed Cases': [format(int(i), ',d') for i in province_confirmed_cases[:province_limit]],\n",
    "                          'Number of Deaths': [format(int(i), ',d') for i in province_death_cases[:province_limit]], \n",
    "                        'Incidence Rate' : province_incidence_rate[:province_limit], 'Mortality Rate': province_mortality_rate[:province_limit]})\n",
    "# number of cases per country/region\n",
    "\n",
    "province_df.style.background_gradient(cmap='Oranges')"
   ]
  },
  {
   "cell_type": "code",
   "execution_count": null,
   "metadata": {
    "_kg_hide-input": true,
    "execution": {
     "iopub.execute_input": "2021-08-13T22:13:01.243693Z",
     "iopub.status.busy": "2021-08-13T22:13:01.243319Z",
     "iopub.status.idle": "2021-08-13T22:13:01.261171Z",
     "shell.execute_reply": "2021-08-13T22:13:01.260448Z",
     "shell.execute_reply.started": "2021-08-13T22:13:01.243625Z"
    }
   },
   "outputs": [],
   "source": [
    "# return the data table with province/state info for a given country\n",
    "def country_table(country_name):\n",
    "    states = list(latest_data[latest_data['Country_Region']==country_name]['Province_State'].unique())\n",
    "    state_confirmed_cases = []\n",
    "    state_death_cases = [] \n",
    "    # state_recovery_cases = []\n",
    "#     state_active = [] \n",
    "    state_incidence_rate = [] \n",
    "    state_mortality_rate = [] \n",
    "\n",
    "    no_cases = [] \n",
    "    for i in states:\n",
    "        cases = latest_data[latest_data['Province_State']==i]['Confirmed'].sum()\n",
    "        if cases > 0:\n",
    "            state_confirmed_cases.append(cases)\n",
    "        else:\n",
    "            no_cases.append(i)\n",
    "\n",
    "    # remove areas with no confirmed cases\n",
    "    for i in no_cases:\n",
    "        states.remove(i)\n",
    "\n",
    "    states = [k for k, v in sorted(zip(states, state_confirmed_cases), key=operator.itemgetter(1), reverse=True)]\n",
    "    for i in range(len(states)):\n",
    "        state_confirmed_cases[i] = latest_data[latest_data['Province_State']==states[i]]['Confirmed'].sum()\n",
    "        state_death_cases.append(latest_data[latest_data['Province_State']==states[i]]['Deaths'].sum())\n",
    "    #     state_recovery_cases.append(latest_data[latest_data['Province_State']==states[i]]['Recovered'].sum())\n",
    "#         state_active.append(latest_data[latest_data['Province_State']==states[i]]['Active'].sum())\n",
    "        state_incidence_rate.append(latest_data[latest_data['Province_State']==states[i]]['Incident_Rate'].sum())\n",
    "        state_mortality_rate.append(state_death_cases[i]/state_confirmed_cases[i])\n",
    "        \n",
    "      \n",
    "    state_df = pd.DataFrame({'State Name': states, 'Number of Confirmed Cases': [format(int(i), ',d') for i in state_confirmed_cases],\n",
    "                              'Number of Deaths': [format(int(i), ',d') for i in state_death_cases], \n",
    "                             'Incidence Rate' : state_incidence_rate, 'Mortality Rate': state_mortality_rate})\n",
    "    # number of cases per country/region\n",
    "    return state_df"
   ]
  },
  {
   "cell_type": "markdown",
   "metadata": {},
   "source": [
    "Data table for **India**"
   ]
  },
  {
   "cell_type": "code",
   "execution_count": null,
   "metadata": {
    "_kg_hide-input": true,
    "execution": {
     "iopub.execute_input": "2021-08-13T22:13:01.262795Z",
     "iopub.status.busy": "2021-08-13T22:13:01.262282Z",
     "iopub.status.idle": "2021-08-13T22:13:01.556811Z",
     "shell.execute_reply": "2021-08-13T22:13:01.555615Z",
     "shell.execute_reply.started": "2021-08-13T22:13:01.262718Z"
    }
   },
   "outputs": [],
   "source": [
    "india_table = country_table('India')\n",
    "india_table.style.background_gradient(cmap='Oranges')"
   ]
  },
  {
   "cell_type": "markdown",
   "metadata": {},
   "source": [
    "Data table for the **United States**"
   ]
  },
  {
   "cell_type": "code",
   "execution_count": null,
   "metadata": {
    "_kg_hide-input": true,
    "execution": {
     "iopub.execute_input": "2021-08-13T22:13:01.559444Z",
     "iopub.status.busy": "2021-08-13T22:13:01.559159Z",
     "iopub.status.idle": "2021-08-13T22:13:02.007002Z",
     "shell.execute_reply": "2021-08-13T22:13:02.00603Z",
     "shell.execute_reply.started": "2021-08-13T22:13:01.559391Z"
    }
   },
   "outputs": [],
   "source": [
    "us_table = country_table('US')\n",
    "us_table.style.background_gradient(cmap='Oranges')"
   ]
  },
  {
   "cell_type": "markdown",
   "metadata": {},
   "source": [
    "Data table for **Brazil**"
   ]
  },
  {
   "cell_type": "code",
   "execution_count": null,
   "metadata": {
    "_kg_hide-input": true,
    "execution": {
     "iopub.execute_input": "2021-08-13T22:13:02.008412Z",
     "iopub.status.busy": "2021-08-13T22:13:02.008143Z",
     "iopub.status.idle": "2021-08-13T22:13:02.242438Z",
     "shell.execute_reply": "2021-08-13T22:13:02.241436Z",
     "shell.execute_reply.started": "2021-08-13T22:13:02.008361Z"
    }
   },
   "outputs": [],
   "source": [
    "brazil_table = country_table('Brazil')\n",
    "brazil_table.style.background_gradient(cmap='Oranges')"
   ]
  },
  {
   "cell_type": "markdown",
   "metadata": {},
   "source": [
    "Data table for **Russia**"
   ]
  },
  {
   "cell_type": "code",
   "execution_count": null,
   "metadata": {
    "_kg_hide-input": true,
    "execution": {
     "iopub.execute_input": "2021-08-13T22:13:02.244037Z",
     "iopub.status.busy": "2021-08-13T22:13:02.243778Z",
     "iopub.status.idle": "2021-08-13T22:13:02.853084Z",
     "shell.execute_reply": "2021-08-13T22:13:02.852117Z",
     "shell.execute_reply.started": "2021-08-13T22:13:02.243995Z"
    }
   },
   "outputs": [],
   "source": [
    "russia_table = country_table('Russia')\n",
    "russia_table.style.background_gradient(cmap='Oranges')"
   ]
  },
  {
   "cell_type": "markdown",
   "metadata": {},
   "source": [
    "Data table for **United Kingdom**"
   ]
  },
  {
   "cell_type": "code",
   "execution_count": null,
   "metadata": {
    "_kg_hide-input": true,
    "execution": {
     "iopub.execute_input": "2021-08-13T22:13:02.854857Z",
     "iopub.status.busy": "2021-08-13T22:13:02.85452Z",
     "iopub.status.idle": "2021-08-13T22:13:02.991677Z",
     "shell.execute_reply": "2021-08-13T22:13:02.990961Z",
     "shell.execute_reply.started": "2021-08-13T22:13:02.854716Z"
    }
   },
   "outputs": [],
   "source": [
    "uk_table = country_table('United Kingdom')\n",
    "uk_table.style.background_gradient(cmap='Oranges')"
   ]
  },
  {
   "cell_type": "markdown",
   "metadata": {},
   "source": [
    "Data table for **France**"
   ]
  },
  {
   "cell_type": "code",
   "execution_count": null,
   "metadata": {
    "_kg_hide-input": true,
    "execution": {
     "iopub.execute_input": "2021-08-13T22:13:02.992893Z",
     "iopub.status.busy": "2021-08-13T22:13:02.992604Z",
     "iopub.status.idle": "2021-08-13T22:13:03.096808Z",
     "shell.execute_reply": "2021-08-13T22:13:03.095967Z",
     "shell.execute_reply.started": "2021-08-13T22:13:02.992824Z"
    }
   },
   "outputs": [],
   "source": [
    "france_table = country_table('France')\n",
    "france_table.style.background_gradient(cmap='Oranges')"
   ]
  },
  {
   "cell_type": "markdown",
   "metadata": {},
   "source": [
    "Data table for **Italy**"
   ]
  },
  {
   "cell_type": "code",
   "execution_count": null,
   "metadata": {
    "_kg_hide-input": true,
    "execution": {
     "iopub.execute_input": "2021-08-13T22:13:03.098568Z",
     "iopub.status.busy": "2021-08-13T22:13:03.098298Z",
     "iopub.status.idle": "2021-08-13T22:13:03.27273Z",
     "shell.execute_reply": "2021-08-13T22:13:03.271723Z",
     "shell.execute_reply.started": "2021-08-13T22:13:03.09852Z"
    }
   },
   "outputs": [],
   "source": [
    "italy_table = country_table('Italy')\n",
    "italy_table.style.background_gradient(cmap='Oranges')"
   ]
  },
  {
   "cell_type": "markdown",
   "metadata": {},
   "source": [
    "Data table for **Spain**"
   ]
  },
  {
   "cell_type": "code",
   "execution_count": null,
   "metadata": {
    "_kg_hide-input": true,
    "execution": {
     "iopub.execute_input": "2021-08-13T22:13:03.27426Z",
     "iopub.status.busy": "2021-08-13T22:13:03.274029Z",
     "iopub.status.idle": "2021-08-13T22:13:03.435635Z",
     "shell.execute_reply": "2021-08-13T22:13:03.434717Z",
     "shell.execute_reply.started": "2021-08-13T22:13:03.274226Z"
    }
   },
   "outputs": [],
   "source": [
    "spain_table = country_table('Spain')\n",
    "spain_table.style.background_gradient(cmap='Oranges')"
   ]
  },
  {
   "cell_type": "markdown",
   "metadata": {},
   "source": [
    "Data table for **Germany**"
   ]
  },
  {
   "cell_type": "code",
   "execution_count": null,
   "metadata": {
    "_kg_hide-input": true,
    "execution": {
     "iopub.execute_input": "2021-08-13T22:13:03.437473Z",
     "iopub.status.busy": "2021-08-13T22:13:03.43713Z",
     "iopub.status.idle": "2021-08-13T22:13:03.583677Z",
     "shell.execute_reply": "2021-08-13T22:13:03.58288Z",
     "shell.execute_reply.started": "2021-08-13T22:13:03.437412Z"
    }
   },
   "outputs": [],
   "source": [
    "germany_table = country_table('Germany')\n",
    "germany_table.style.background_gradient(cmap='Oranges')"
   ]
  },
  {
   "cell_type": "markdown",
   "metadata": {},
   "source": [
    "Data table for **the Netherlands**"
   ]
  },
  {
   "cell_type": "code",
   "execution_count": null,
   "metadata": {
    "_kg_hide-input": true,
    "execution": {
     "iopub.execute_input": "2021-08-13T22:13:03.585142Z",
     "iopub.status.busy": "2021-08-13T22:13:03.584904Z",
     "iopub.status.idle": "2021-08-13T22:13:03.732521Z",
     "shell.execute_reply": "2021-08-13T22:13:03.731635Z",
     "shell.execute_reply.started": "2021-08-13T22:13:03.585107Z"
    }
   },
   "outputs": [],
   "source": [
    "netherlands_table = country_table('Netherlands')\n",
    "netherlands_table.style.background_gradient(cmap='Oranges')"
   ]
  },
  {
   "cell_type": "markdown",
   "metadata": {},
   "source": [
    "Data table for **China**"
   ]
  },
  {
   "cell_type": "code",
   "execution_count": null,
   "metadata": {
    "_kg_hide-input": true,
    "execution": {
     "iopub.execute_input": "2021-08-13T22:13:03.734351Z",
     "iopub.status.busy": "2021-08-13T22:13:03.734095Z",
     "iopub.status.idle": "2021-08-13T22:13:03.999769Z",
     "shell.execute_reply": "2021-08-13T22:13:03.998921Z",
     "shell.execute_reply.started": "2021-08-13T22:13:03.734307Z"
    }
   },
   "outputs": [],
   "source": [
    "china_table = country_table('China')\n",
    "china_table.style.background_gradient(cmap='Oranges')"
   ]
  },
  {
   "cell_type": "markdown",
   "metadata": {},
   "source": [
    "Data table for **Colombia**"
   ]
  },
  {
   "cell_type": "code",
   "execution_count": null,
   "metadata": {
    "_kg_hide-input": true,
    "execution": {
     "iopub.execute_input": "2021-08-13T22:13:04.001423Z",
     "iopub.status.busy": "2021-08-13T22:13:04.001176Z",
     "iopub.status.idle": "2021-08-13T22:13:04.275626Z",
     "shell.execute_reply": "2021-08-13T22:13:04.274906Z",
     "shell.execute_reply.started": "2021-08-13T22:13:04.001383Z"
    }
   },
   "outputs": [],
   "source": [
    "colombia_table = country_table('Colombia')\n",
    "colombia_table.style.background_gradient(cmap='Oranges')"
   ]
  },
  {
   "cell_type": "markdown",
   "metadata": {},
   "source": [
    "Data table for **Mexico**"
   ]
  },
  {
   "cell_type": "code",
   "execution_count": null,
   "metadata": {
    "_kg_hide-input": true,
    "execution": {
     "iopub.execute_input": "2021-08-13T22:13:04.277734Z",
     "iopub.status.busy": "2021-08-13T22:13:04.277381Z",
     "iopub.status.idle": "2021-08-13T22:13:04.532412Z",
     "shell.execute_reply": "2021-08-13T22:13:04.531724Z",
     "shell.execute_reply.started": "2021-08-13T22:13:04.277668Z"
    }
   },
   "outputs": [],
   "source": [
    "mexico_table = country_table('Mexico')\n",
    "mexico_table.style.background_gradient(cmap='Oranges')"
   ]
  },
  {
   "cell_type": "markdown",
   "metadata": {},
   "source": [
    "<a id='bar_charts'></a>\n",
    "# Bar Chart Visualizations for COVID-19\n",
    "This offers us some insights for how different countries/regions compare in terms of covid cases."
   ]
  },
  {
   "cell_type": "code",
   "execution_count": null,
   "metadata": {
    "_kg_hide-input": true,
    "execution": {
     "iopub.execute_input": "2021-08-13T22:13:04.533582Z",
     "iopub.status.busy": "2021-08-13T22:13:04.533378Z",
     "iopub.status.idle": "2021-08-13T22:13:05.47398Z",
     "shell.execute_reply": "2021-08-13T22:13:05.473309Z",
     "shell.execute_reply.started": "2021-08-13T22:13:04.53355Z"
    }
   },
   "outputs": [],
   "source": [
    "total_world_cases = np.sum(country_confirmed_cases)\n",
    "us_confirmed = latest_data[latest_data['Country_Region']=='US']['Confirmed'].sum()\n",
    "outside_us_confirmed = total_world_cases - us_confirmed\n",
    "\n",
    "plt.figure(figsize=(16, 9))\n",
    "plt.barh('United States', us_confirmed)\n",
    "plt.barh('Outside United States', outside_us_confirmed)\n",
    "plt.title('# of Total Coronavirus Confirmed Cases', size=20)\n",
    "plt.xticks(size=20)\n",
    "plt.yticks(size=20)\n",
    "plt.show()\n",
    "\n",
    "\n",
    "plt.figure(figsize=(16, 9))\n",
    "plt.barh('United States', us_confirmed/total_world_cases)\n",
    "plt.barh('Outside United States', outside_us_confirmed/total_world_cases)\n",
    "plt.title('# of Coronavirus Confirmed Cases Expressed in Percentage', size=20)\n",
    "plt.xticks(size=20)\n",
    "plt.yticks(size=20)\n",
    "plt.show()"
   ]
  },
  {
   "cell_type": "code",
   "execution_count": null,
   "metadata": {
    "_kg_hide-input": true,
    "execution": {
     "iopub.execute_input": "2021-08-13T22:13:05.475497Z",
     "iopub.status.busy": "2021-08-13T22:13:05.475103Z",
     "iopub.status.idle": "2021-08-13T22:13:05.481689Z",
     "shell.execute_reply": "2021-08-13T22:13:05.481083Z",
     "shell.execute_reply.started": "2021-08-13T22:13:05.475444Z"
    }
   },
   "outputs": [],
   "source": [
    "print('Outside United States {} cases ({}%):'.format(outside_us_confirmed, np.round((outside_us_confirmed/total_world_cases)*100, 1)))\n",
    "print('United States {} cases ({}%)'.format(us_confirmed, np.round((us_confirmed/total_world_cases)*100, 1)))\n",
    "print('Total: {} cases'.format(total_world_cases))"
   ]
  },
  {
   "cell_type": "code",
   "execution_count": null,
   "metadata": {
    "_kg_hide-input": true,
    "_kg_hide-output": true,
    "execution": {
     "iopub.execute_input": "2021-08-13T22:13:05.48318Z",
     "iopub.status.busy": "2021-08-13T22:13:05.482735Z",
     "iopub.status.idle": "2021-08-13T22:13:05.49539Z",
     "shell.execute_reply": "2021-08-13T22:13:05.494701Z",
     "shell.execute_reply.started": "2021-08-13T22:13:05.483129Z"
    }
   },
   "outputs": [],
   "source": [
    "# Only show 10 countries with the most confirmed cases, the rest are grouped into the other category\n",
    "visual_unique_countries = [] \n",
    "visual_confirmed_cases = []\n",
    "others = np.sum(country_confirmed_cases[10:])\n",
    "\n",
    "for i in range(len(country_confirmed_cases[:10])):\n",
    "    visual_unique_countries.append(unique_countries[i])\n",
    "    visual_confirmed_cases.append(country_confirmed_cases[i])\n",
    "    \n",
    "visual_unique_countries.append('Others')\n",
    "visual_confirmed_cases.append(others)"
   ]
  },
  {
   "cell_type": "code",
   "execution_count": null,
   "metadata": {
    "_kg_hide-input": true,
    "_kg_hide-output": true,
    "execution": {
     "iopub.execute_input": "2021-08-13T22:13:05.496933Z",
     "iopub.status.busy": "2021-08-13T22:13:05.49653Z",
     "iopub.status.idle": "2021-08-13T22:13:05.50782Z",
     "shell.execute_reply": "2021-08-13T22:13:05.506861Z",
     "shell.execute_reply.started": "2021-08-13T22:13:05.49689Z"
    }
   },
   "outputs": [],
   "source": [
    "def plot_bar_graphs(x, y, title):\n",
    "    plt.figure(figsize=(16, 12))\n",
    "    plt.barh(x, y)\n",
    "    plt.title(title, size=20)\n",
    "    plt.xticks(size=20)\n",
    "    plt.yticks(size=20)\n",
    "    plt.show()\n",
    "    \n",
    "# good for a lot x values \n",
    "def plot_bar_graphs_tall(x, y, title):\n",
    "    plt.figure(figsize=(19, 18))\n",
    "    plt.barh(x, y)\n",
    "    plt.title(title, size=25)\n",
    "    plt.xticks(size=25)\n",
    "    plt.yticks(size=25)\n",
    "    plt.show()"
   ]
  },
  {
   "cell_type": "code",
   "execution_count": null,
   "metadata": {
    "_kg_hide-input": true,
    "execution": {
     "iopub.execute_input": "2021-08-13T22:13:05.509957Z",
     "iopub.status.busy": "2021-08-13T22:13:05.509503Z",
     "iopub.status.idle": "2021-08-13T22:13:06.146113Z",
     "shell.execute_reply": "2021-08-13T22:13:06.145148Z",
     "shell.execute_reply.started": "2021-08-13T22:13:05.509799Z"
    }
   },
   "outputs": [],
   "source": [
    "plot_bar_graphs(visual_unique_countries, visual_confirmed_cases, '# of Covid-19 Confirmed Cases in Countries/Regions')"
   ]
  },
  {
   "cell_type": "code",
   "execution_count": null,
   "metadata": {
    "_kg_hide-input": true,
    "_kg_hide-output": false,
    "execution": {
     "iopub.execute_input": "2021-08-13T22:13:06.147567Z",
     "iopub.status.busy": "2021-08-13T22:13:06.147333Z",
     "iopub.status.idle": "2021-08-13T22:13:06.767617Z",
     "shell.execute_reply": "2021-08-13T22:13:06.766599Z",
     "shell.execute_reply.started": "2021-08-13T22:13:06.147526Z"
    }
   },
   "outputs": [],
   "source": [
    "log_country_confirmed_cases = [math.log10(i) for i in visual_confirmed_cases]\n",
    "plot_bar_graphs(visual_unique_countries, log_country_confirmed_cases, 'Common Log # of Coronavirus Confirmed Cases in Countries/Regions')"
   ]
  },
  {
   "cell_type": "code",
   "execution_count": null,
   "metadata": {
    "_kg_hide-input": true,
    "_kg_hide-output": true,
    "execution": {
     "iopub.execute_input": "2021-08-13T22:13:06.769038Z",
     "iopub.status.busy": "2021-08-13T22:13:06.768787Z",
     "iopub.status.idle": "2021-08-13T22:13:06.775214Z",
     "shell.execute_reply": "2021-08-13T22:13:06.774357Z",
     "shell.execute_reply.started": "2021-08-13T22:13:06.768996Z"
    }
   },
   "outputs": [],
   "source": [
    "# Only show 10 provinces with the most confirmed cases, the rest are grouped into the other category\n",
    "visual_unique_provinces = [] \n",
    "visual_confirmed_cases2 = []\n",
    "others = np.sum(province_confirmed_cases[10:])\n",
    "for i in range(len(province_confirmed_cases[:10])):\n",
    "    visual_unique_provinces.append(unique_provinces[i])\n",
    "    visual_confirmed_cases2.append(province_confirmed_cases[i])\n",
    "\n",
    "visual_unique_provinces.append('Others')\n",
    "visual_confirmed_cases2.append(others)"
   ]
  },
  {
   "cell_type": "code",
   "execution_count": null,
   "metadata": {
    "_kg_hide-input": true,
    "execution": {
     "iopub.execute_input": "2021-08-13T22:13:06.776921Z",
     "iopub.status.busy": "2021-08-13T22:13:06.776668Z",
     "iopub.status.idle": "2021-08-13T22:13:07.391883Z",
     "shell.execute_reply": "2021-08-13T22:13:07.390935Z",
     "shell.execute_reply.started": "2021-08-13T22:13:06.776874Z"
    }
   },
   "outputs": [],
   "source": [
    "plot_bar_graphs(visual_unique_provinces, visual_confirmed_cases2, '# of Coronavirus Confirmed Cases in Provinces/States')"
   ]
  },
  {
   "cell_type": "code",
   "execution_count": null,
   "metadata": {
    "_kg_hide-input": true,
    "_kg_hide-output": false,
    "execution": {
     "iopub.execute_input": "2021-08-13T22:13:07.393392Z",
     "iopub.status.busy": "2021-08-13T22:13:07.393155Z",
     "iopub.status.idle": "2021-08-13T22:13:08.013584Z",
     "shell.execute_reply": "2021-08-13T22:13:08.012653Z",
     "shell.execute_reply.started": "2021-08-13T22:13:07.39335Z"
    }
   },
   "outputs": [],
   "source": [
    "log_province_confirmed_cases = [math.log10(i) for i in visual_confirmed_cases2]\n",
    "plot_bar_graphs(visual_unique_provinces, log_province_confirmed_cases, 'Log of # of Coronavirus Confirmed Cases in Provinces/States')"
   ]
  },
  {
   "cell_type": "markdown",
   "metadata": {},
   "source": [
    "<a id='pie_charts'></a>\n",
    "# Pie Chart Visualizations for COVID-19\n",
    "Although pie charts are not necessarily the most informative visualizations, I added them to increase some variety for the visualizations. "
   ]
  },
  {
   "cell_type": "code",
   "execution_count": null,
   "metadata": {
    "_kg_hide-input": true,
    "_kg_hide-output": true,
    "execution": {
     "iopub.status.busy": "2021-08-13T22:16:12.244975Z",
     "iopub.status.idle": "2021-08-13T22:16:12.245446Z"
    }
   },
   "outputs": [],
   "source": [
    "def plot_pie_charts(x, y, title):\n",
    "    # more muted color \n",
    "    c = ['lightcoral', 'rosybrown', 'sandybrown', 'navajowhite', 'gold',\n",
    "        'khaki', 'lightskyblue', 'turquoise', 'lightslategrey', 'thistle', 'pink']\n",
    "    plt.figure(figsize=(20,15))\n",
    "    plt.title(title, size=20)\n",
    "    plt.pie(y, colors=c,shadow=True)\n",
    "    plt.legend(x, loc='best', fontsize=12)\n",
    "    plt.show()"
   ]
  },
  {
   "cell_type": "code",
   "execution_count": null,
   "metadata": {
    "_kg_hide-input": true,
    "execution": {
     "iopub.status.busy": "2021-08-13T22:16:12.246524Z",
     "iopub.status.idle": "2021-08-13T22:16:12.24714Z"
    }
   },
   "outputs": [],
   "source": [
    "plot_pie_charts(visual_unique_countries, visual_confirmed_cases, 'Covid-19 Confirmed Cases per Country')"
   ]
  },
  {
   "cell_type": "code",
   "execution_count": null,
   "metadata": {
    "_kg_hide-input": true,
    "execution": {
     "iopub.status.busy": "2021-08-13T22:16:12.248112Z",
     "iopub.status.idle": "2021-08-13T22:16:12.24863Z"
    }
   },
   "outputs": [],
   "source": [
    "plot_pie_charts(visual_unique_provinces, visual_confirmed_cases2, 'Covid-19 Confirmed Cases per State/Province/Region')"
   ]
  },
  {
   "cell_type": "code",
   "execution_count": null,
   "metadata": {
    "_kg_hide-input": true,
    "_kg_hide-output": true,
    "execution": {
     "iopub.execute_input": "2021-08-13T22:13:09.646135Z",
     "iopub.status.busy": "2021-08-13T22:13:09.64589Z",
     "iopub.status.idle": "2021-08-13T22:13:09.65795Z",
     "shell.execute_reply": "2021-08-13T22:13:09.657309Z",
     "shell.execute_reply.started": "2021-08-13T22:13:09.646092Z"
    }
   },
   "outputs": [],
   "source": [
    "# Plotting countries with regional data using a pie chart \n",
    "\n",
    "def plot_pie_country_with_regions(country_name, title):\n",
    "    regions = list(latest_data[latest_data['Country_Region']==country_name]['Province_State'].unique())\n",
    "    confirmed_cases = []\n",
    "    no_cases = [] \n",
    "    for i in regions:\n",
    "        cases = latest_data[latest_data['Province_State']==i]['Confirmed'].sum()\n",
    "        if cases > 0:\n",
    "            confirmed_cases.append(cases)\n",
    "        else:\n",
    "            no_cases.append(i)\n",
    "\n",
    "    # remove areas with no confirmed cases\n",
    "    for i in no_cases:\n",
    "        regions.remove(i)\n",
    "\n",
    "    # only show the top 5 states\n",
    "    regions = [k for k, v in sorted(zip(regions, confirmed_cases), key=operator.itemgetter(1), reverse=True)]\n",
    "\n",
    "    for i in range(len(regions)):\n",
    "        confirmed_cases[i] = latest_data[latest_data['Province_State']==regions[i]]['Confirmed'].sum()  \n",
    "    \n",
    "    # additional province/state will be considered \"others\"\n",
    "    \n",
    "    if(len(regions)>5):\n",
    "        regions_5 = regions[:5]\n",
    "        regions_5.append('Others')\n",
    "        confirmed_cases_5 = confirmed_cases[:5]\n",
    "        confirmed_cases_5.append(np.sum(confirmed_cases[5:]))\n",
    "        plot_pie_charts(regions_5,confirmed_cases_5, title)\n",
    "    else:\n",
    "        plot_pie_charts(regions,confirmed_cases, title)"
   ]
  },
  {
   "cell_type": "code",
   "execution_count": null,
   "metadata": {
    "_kg_hide-input": true,
    "execution": {
     "iopub.execute_input": "2021-08-13T22:28:54.249828Z",
     "iopub.status.busy": "2021-08-13T22:28:54.249309Z",
     "iopub.status.idle": "2021-08-13T22:29:07.925601Z",
     "shell.execute_reply": "2021-08-13T22:29:07.924931Z",
     "shell.execute_reply.started": "2021-08-13T22:28:54.249768Z"
    }
   },
   "outputs": [],
   "source": [
    "pie_chart_countries = ['US', 'Brazil', 'Russia', 'India', 'United Kingdom', 'Italy', 'Germany', 'France', 'Spain', 'Peru', 'Mexico', 'Canada', \n",
    "                       'Australia', 'China', 'Chile', 'Colombia', 'Netherlands']\n",
    "\n",
    "for i in pie_chart_countries:\n",
    "    plot_pie_country_with_regions(i, 'Covid-19 Confirmed Cases in {}'.format(i))"
   ]
  },
  {
   "cell_type": "markdown",
   "metadata": {},
   "source": [
    "<a id='hospital_testing'></a>\n",
    "# US Medical Data on Testing \n",
    "This gives us some information on US coronavirus testing, which is important for getting a clear picture of the pandemic."
   ]
  },
  {
   "cell_type": "code",
   "execution_count": null,
   "metadata": {
    "_kg_hide-input": true,
    "execution": {
     "iopub.execute_input": "2021-08-13T22:13:24.936708Z",
     "iopub.status.busy": "2021-08-13T22:13:24.936412Z",
     "iopub.status.idle": "2021-08-13T22:13:27.608471Z",
     "shell.execute_reply": "2021-08-13T22:13:27.607448Z",
     "shell.execute_reply.started": "2021-08-13T22:13:24.936645Z"
    }
   },
   "outputs": [],
   "source": [
    "# Replace nan with 0\n",
    "us_medical_data.fillna(value=0, inplace=True)\n",
    "\n",
    "def plot_us_medical_data():\n",
    "    states = us_medical_data['Province_State'].unique()\n",
    "    testing_number = []\n",
    "    testing_rate = []\n",
    "    \n",
    "    for i in states:\n",
    "        testing_number.append(us_medical_data[us_medical_data['Province_State']==i]['Total_Test_Results'].sum())\n",
    "        testing_rate.append(us_medical_data[us_medical_data['Province_State']==i]['Testing_Rate'].max())\n",
    "    \n",
    "    # only show the top 15 states\n",
    "    testing_states = [k for k, v in sorted(zip(states, testing_number), key=operator.itemgetter(1), reverse=True)]\n",
    "    testing_rate_states = [k for k, v in sorted(zip(states, testing_rate), key=operator.itemgetter(1), reverse=True)]\n",
    "  \n",
    "    for i in range(len(states)):\n",
    "        testing_number[i] = us_medical_data[us_medical_data['Province_State']==testing_states[i]]['Total_Test_Results'].sum()\n",
    "        testing_rate[i] = us_medical_data[us_medical_data['Province_State']==testing_rate_states[i]]['Testing_Rate'].sum()\n",
    "    \n",
    "    top_limit = 30 \n",
    "    \n",
    "    plot_bar_graphs_tall(testing_states[:top_limit], testing_number[:top_limit], 'Total Testing per State (Top 30)')\n",
    "    plot_bar_graphs_tall(testing_rate_states[:top_limit], testing_rate[:top_limit], 'Testing Rate per 100,000 People (Top 30)')\n",
    " \n",
    "\n",
    "plot_us_medical_data()"
   ]
  },
  {
   "cell_type": "markdown",
   "metadata": {},
   "source": [
    "<a id='mobility_data'></a>\n",
    "# Taking a look at Apple's mobility data.\n",
    "It can help us understand the relationship between mobility and daily increases in coronavirus cases. The graphs below show the data for U.S. states and territories."
   ]
  },
  {
   "cell_type": "code",
   "execution_count": null,
   "metadata": {
    "_kg_hide-input": true,
    "execution": {
     "iopub.execute_input": "2021-08-13T22:13:27.610677Z",
     "iopub.status.busy": "2021-08-13T22:13:27.610308Z",
     "iopub.status.idle": "2021-08-13T22:13:27.616575Z",
     "shell.execute_reply": "2021-08-13T22:13:27.615656Z",
     "shell.execute_reply.started": "2021-08-13T22:13:27.61061Z"
    }
   },
   "outputs": [],
   "source": [
    "def get_mobility_by_state(transport_type, state, day):\n",
    "    return apple_mobility[apple_mobility['sub-region']==state][apple_mobility['transportation_type']==transport_type].sum()[day]"
   ]
  },
  {
   "cell_type": "code",
   "execution_count": null,
   "metadata": {
    "_kg_hide-input": true,
    "_kg_hide-output": true,
    "execution": {
     "iopub.execute_input": "2021-08-13T22:13:27.618248Z",
     "iopub.status.busy": "2021-08-13T22:13:27.618004Z",
     "iopub.status.idle": "2021-08-13T22:13:27.654156Z",
     "shell.execute_reply": "2021-08-13T22:13:27.653237Z",
     "shell.execute_reply.started": "2021-08-13T22:13:27.618204Z"
    }
   },
   "outputs": [],
   "source": [
    "apple_mobility.head()"
   ]
  },
  {
   "cell_type": "code",
   "execution_count": null,
   "metadata": {
    "_kg_hide-input": true,
    "_kg_hide-output": true,
    "execution": {
     "iopub.execute_input": "2021-08-13T22:13:27.655942Z",
     "iopub.status.busy": "2021-08-13T22:13:27.655574Z",
     "iopub.status.idle": "2021-08-13T22:13:27.670723Z",
     "shell.execute_reply": "2021-08-13T22:13:27.66967Z",
     "shell.execute_reply.started": "2021-08-13T22:13:27.655875Z"
    }
   },
   "outputs": [],
   "source": [
    "# sample testing \n",
    "get_mobility_by_state('walking', 'Connecticut', '2020-07-30')"
   ]
  },
  {
   "cell_type": "code",
   "execution_count": null,
   "metadata": {
    "_kg_hide-input": true,
    "execution": {
     "iopub.execute_input": "2021-08-13T22:13:27.672401Z",
     "iopub.status.busy": "2021-08-13T22:13:27.672052Z",
     "iopub.status.idle": "2021-08-13T22:13:27.697806Z",
     "shell.execute_reply": "2021-08-13T22:13:27.697097Z",
     "shell.execute_reply.started": "2021-08-13T22:13:27.672324Z"
    }
   },
   "outputs": [],
   "source": [
    "# revising date to fit with the mobility format \n",
    "revised_dates = []\n",
    "for i in range(len(dates)):\n",
    "    revised_dates.append(datetime.datetime.strptime(dates[i], '%m/%d/%y').strftime('%Y-%m-%d'))"
   ]
  },
  {
   "cell_type": "code",
   "execution_count": null,
   "metadata": {
    "_kg_hide-input": true,
    "execution": {
     "iopub.execute_input": "2021-08-13T22:13:27.699858Z",
     "iopub.status.busy": "2021-08-13T22:13:27.69948Z",
     "iopub.status.idle": "2021-08-13T22:13:27.706511Z",
     "shell.execute_reply": "2021-08-13T22:13:27.705342Z",
     "shell.execute_reply.started": "2021-08-13T22:13:27.699788Z"
    }
   },
   "outputs": [],
   "source": [
    "# returns true if it is a weekend, and false if it is a weekday \n",
    "def weekday_or_weekend(date):\n",
    "    date_obj = datetime.datetime.strptime(date, '%Y-%m-%d')\n",
    "    day_of_the_week =  date_obj.weekday()\n",
    "    if (day_of_the_week+1) % 6 == 0 or (day_of_the_week+1) % 7 == 0:\n",
    "        return True \n",
    "    else:\n",
    "        return False "
   ]
  },
  {
   "cell_type": "code",
   "execution_count": null,
   "metadata": {
    "_kg_hide-input": true,
    "_kg_hide-output": true,
    "execution": {
     "iopub.execute_input": "2021-08-13T22:13:27.708789Z",
     "iopub.status.busy": "2021-08-13T22:13:27.708346Z",
     "iopub.status.idle": "2021-08-13T22:13:27.721175Z",
     "shell.execute_reply": "2021-08-13T22:13:27.720241Z",
     "shell.execute_reply.started": "2021-08-13T22:13:27.708636Z"
    }
   },
   "outputs": [],
   "source": [
    "revised_day_since_1_22 = [i for i in range(len(revised_dates))]"
   ]
  },
  {
   "cell_type": "code",
   "execution_count": null,
   "metadata": {
    "_kg_hide-input": true,
    "execution": {
     "iopub.execute_input": "2021-08-13T22:16:13.852584Z",
     "iopub.status.busy": "2021-08-13T22:16:13.852249Z",
     "iopub.status.idle": "2021-08-13T22:28:54.247164Z",
     "shell.execute_reply": "2021-08-13T22:28:54.246245Z",
     "shell.execute_reply.started": "2021-08-13T22:16:13.852526Z"
    }
   },
   "outputs": [],
   "source": [
    "import matplotlib.dates as mdates\n",
    "states = ['New York', 'Connecticut', 'Florida', 'California', 'Texas', 'Georgia', 'Arizona', 'Illinois', 'Louisiana', 'Ohio',\n",
    "          'Tennessee', 'North Carolina', 'South Carolina', 'Alabama', 'Missouri', 'Kansas', 'Pennsylvania', 'Wisconsin', 'Virginia', 'Massachusetts', 'Utah', 'Minnesota',\n",
    "         'Oklahoma', 'Iowa', 'Arkansas', 'Kentucky', 'Puerto Rico', 'Colorado', 'Idaho', 'New Jersey', 'Nevada', 'Maryland', 'Indiana', 'Washington', 'Montana', 'Rhode Island',\n",
    "         'New Mexico', 'Oregon', 'Vermont', 'North Dakota', 'New Hampshire']\n",
    "states.sort()\n",
    "\n",
    "# making sure the dates are in sync \n",
    "mobility_latest_date = apple_mobility.columns[-1]\n",
    "mobility_latest_index = revised_dates.index(mobility_latest_date)\n",
    "\n",
    "for state in states:\n",
    "    # weekend and weekday mobility are separated \n",
    "    weekday_mobility = []\n",
    "    weekday_mobility_dates = [] \n",
    "    weekend_mobility = [] \n",
    "    weekend_mobility_dates = [] \n",
    "    \n",
    "    for i in range(len(revised_dates)):\n",
    "        if i <= mobility_latest_index:\n",
    "            if weekday_or_weekend(revised_dates[i]):\n",
    "                weekend_mobility.append(get_mobility_by_state('walking', state, revised_dates[i]))\n",
    "                weekend_mobility_dates.append(i)\n",
    "            else:\n",
    "                weekday_mobility.append(get_mobility_by_state('walking', state, revised_dates[i]))\n",
    "                weekday_mobility_dates.append(i)\n",
    "        else:\n",
    "            pass\n",
    "        \n",
    "    # remove null values (they are counted as 0)\n",
    "    for i in range(len(weekend_mobility)):       \n",
    "        if weekend_mobility[i] == 0 and i != 0:\n",
    "            weekend_mobility[i] = weekend_mobility[i-1]\n",
    "        elif weekend_mobility[i] == 0 and i == 0:\n",
    "            weekend_mobility[i] = weekend_mobility[i+1]\n",
    "        else:\n",
    "            pass\n",
    "        \n",
    "    for i in range(len(weekday_mobility)):       \n",
    "        if weekday_mobility[i] == 0 and i != 0:\n",
    "            weekday_mobility[i] = weekday_mobility[i-1]\n",
    "        elif weekday_mobility[i] == 0 and i == 0:\n",
    "            weekday_mobility[i] = weekday_mobility[i+1]\n",
    "        else:\n",
    "            pass\n",
    "    \n",
    "    \n",
    "    weekday_mobility_average = moving_average(weekday_mobility, 7)\n",
    "    weekend_mobility_average = moving_average(weekend_mobility, 7)\n",
    "    \n",
    "    plt.figure(figsize=(16, 10))\n",
    "    plt.bar(weekday_mobility_dates, weekday_mobility, color='cornflowerblue')\n",
    "    plt.plot(weekday_mobility_dates, weekday_mobility_average, color='green')\n",
    "    \n",
    "    plt.bar(weekend_mobility_dates, weekend_mobility, color='salmon')\n",
    "    plt.plot(weekend_mobility_dates, weekend_mobility_average, color='black')\n",
    "    \n",
    "    plt.legend(['Moving average (7 days) weekday mobility', 'Moving Average (7 days) weekend mobility', 'Weekday mobility', 'Weekend mobility'], prop={'size': 18})\n",
    "    plt.title('{} Walking Mobility Data'.format(state), size=25)\n",
    "    plt.xlabel('Days since 1/22', size=25)\n",
    "    plt.ylabel('Mobility Value', size=25)\n",
    "    plt.xticks(size=25)\n",
    "    plt.yticks(size=25)\n",
    "    plt.show()"
   ]
  }
 ],
 "metadata": {
  "kernelspec": {
   "display_name": "Python 3",
   "language": "python",
   "name": "python3"
  },
  "language_info": {
   "codemirror_mode": {
    "name": "ipython",
    "version": 3
   },
   "file_extension": ".py",
   "mimetype": "text/x-python",
   "name": "python",
   "nbconvert_exporter": "python",
   "pygments_lexer": "ipython3",
   "version": "3.8.8"
  },
  "latex_envs": {
   "LaTeX_envs_menu_present": true,
   "autoclose": false,
   "autocomplete": true,
   "bibliofile": "biblio.bib",
   "cite_by": "apalike",
   "current_citInitial": 1,
   "eqLabelWithNumbers": true,
   "eqNumInitial": 1,
   "hotkeys": {
    "equation": "Ctrl-E",
    "itemize": "Ctrl-I"
   },
   "labels_anchors": false,
   "latex_user_defs": false,
   "report_style_numbering": false,
   "user_envs_cfg": false
  },
  "toc": {
   "base_numbering": 1,
   "nav_menu": {},
   "number_sections": false,
   "sideBar": true,
   "skip_h1_title": false,
   "title_cell": "Table of Contents",
   "title_sidebar": "Contents",
   "toc_cell": false,
   "toc_position": {},
   "toc_section_display": true,
   "toc_window_display": false
  },
  "varInspector": {
   "cols": {
    "lenName": 16,
    "lenType": 16,
    "lenVar": 40
   },
   "kernels_config": {
    "python": {
     "delete_cmd_postfix": "",
     "delete_cmd_prefix": "del ",
     "library": "var_list.py",
     "varRefreshCmd": "print(var_dic_list())"
    },
    "r": {
     "delete_cmd_postfix": ") ",
     "delete_cmd_prefix": "rm(",
     "library": "var_list.r",
     "varRefreshCmd": "cat(var_dic_list()) "
    }
   },
   "types_to_exclude": [
    "module",
    "function",
    "builtin_function_or_method",
    "instance",
    "_Feature"
   ],
   "window_display": false
  }
 },
 "nbformat": 4,
 "nbformat_minor": 4
}
